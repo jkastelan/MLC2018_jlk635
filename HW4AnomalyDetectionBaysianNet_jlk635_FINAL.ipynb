{
 "cells": [
  {
   "cell_type": "markdown",
   "metadata": {},
   "source": [
    "## MLC HW 4\n",
    "\n",
    "### Submission by Jon Kastelan (jlk635)\n",
    "\n"
   ]
  },
  {
   "cell_type": "code",
   "execution_count": 1,
   "metadata": {},
   "outputs": [],
   "source": [
    "import pandas as pd\n",
    "import numpy as np\n",
    "from sklearn.gaussian_process import GaussianProcessRegressor\n",
    "from sklearn.gaussian_process.kernels import RBF, ConstantKernel,WhiteKernel\n",
    "from sklearn.cluster import KMeans\n",
    "from sklearn.mixture import GaussianMixture\n",
    "from sklearn.neighbors import LocalOutlierFactor\n",
    "\n",
    "from pgmpy.estimators import HillClimbSearch\n",
    "from pgmpy.estimators import BicScore\n",
    "from pgmpy.models import BayesianModel\n",
    "from pgmpy.estimators import MaximumLikelihoodEstimator\n",
    "\n",
    "import matplotlib.pyplot as plt\n",
    "import seaborn as sns\n",
    "sns.set(color_codes=True)\n",
    "%matplotlib inline\n",
    "np.random.seed(999)\n"
   ]
  },
  {
   "cell_type": "markdown",
   "metadata": {},
   "source": [
    "### Question 1 (40 points)\n",
    "\n",
    "In this question, you will model traffic counts in Pittsburgh using Gaussian process (GP) regression.  The included dataset, \"PittsburghTrafficCounts.csv\", represents the average daily traffic counts computed by traffic sensors at over 1,100 locations in Allegheny County, PA.  The data was collected from years 2012-2014 and compiled by Carnegie Mellon University’s Traffic21 Institute; we have the longitude, latitude, and average daily count for each sensor.  \n",
    "\n",
    "Given this dataset, your goal is to learn a model of traffic count as a function of spatial location.  To do so, fit a Gaussian Process regression model to the observed data.  While you can decide on the precise kernel specification, you should try to achieve a good model fit, as quantified by a log marginal likelihood value greater than (i.e., less negative than) -1400.  Here are some hints for getting a good model fit:\n",
    "\n",
    "* We recommend that you take the logarithm of the traffic counts, and then subtract the mean of this vector, before fitting the model.\n",
    "\n",
    "* Since the data is noisy, don't forget to include a noise term (WhiteKernel) in your model.\n",
    "\n",
    "* When fitting a GP with RBF kernel on multidimensional data, you can learn a separate length scale for each dimension, e.g., length_scale=(length_scale_x, length_scale_y). \n",
    "\n",
    "Your Python code should provide the following five outputs:\n",
    "\n",
    "1) The kernel after parameter optimization and fitting to the observed data. (10 pts)\n",
    "\n",
    "2) The log marginal likelihood of the training data. (5 pts)\n",
    "\n",
    "3) Show a 2-D plot of the model's predictions over a mesh grid of longitude/latitude (with color corresponding to the model's predictions) and overlay a 2-D scatter plot of sensor locations (with color corresponding to the observed values). (10 pts)\n",
    "\n",
    "4) What percentage of sensors have average traffic counts more than two standard deviations higher or lower than the model predicts given their spatial location? (5 pts)\n",
    "\n",
    "5) Show a 2-D scatter plot of the sensor locations, with three colors corresponding to observed values a) more than two standard deviations higher than predicted, b) more then two standard deviations lower than predicted, and c) within two standard deviations of the predicted values. (10 pts)\n",
    "\n",
    "_________________________________________"
   ]
  },
  {
   "cell_type": "code",
   "execution_count": 2,
   "metadata": {},
   "outputs": [
    {
     "data": {
      "text/html": [
       "<div>\n",
       "<table border=\"1\" class=\"dataframe\">\n",
       "  <thead>\n",
       "    <tr style=\"text-align: right;\">\n",
       "      <th></th>\n",
       "      <th>Longitude</th>\n",
       "      <th>Latitude</th>\n",
       "      <th>AvgDailyTrafficCount</th>\n",
       "    </tr>\n",
       "  </thead>\n",
       "  <tbody>\n",
       "    <tr>\n",
       "      <th>0</th>\n",
       "      <td>-80.278366</td>\n",
       "      <td>40.468606</td>\n",
       "      <td>84.0</td>\n",
       "    </tr>\n",
       "    <tr>\n",
       "      <th>1</th>\n",
       "      <td>-80.162117</td>\n",
       "      <td>40.384598</td>\n",
       "      <td>95.0</td>\n",
       "    </tr>\n",
       "    <tr>\n",
       "      <th>2</th>\n",
       "      <td>-80.221205</td>\n",
       "      <td>40.366778</td>\n",
       "      <td>97.0</td>\n",
       "    </tr>\n",
       "    <tr>\n",
       "      <th>3</th>\n",
       "      <td>-80.142455</td>\n",
       "      <td>40.622084</td>\n",
       "      <td>111.0</td>\n",
       "    </tr>\n",
       "    <tr>\n",
       "      <th>4</th>\n",
       "      <td>-80.131975</td>\n",
       "      <td>40.544915</td>\n",
       "      <td>125.0</td>\n",
       "    </tr>\n",
       "  </tbody>\n",
       "</table>\n",
       "</div>"
      ],
      "text/plain": [
       "   Longitude   Latitude  AvgDailyTrafficCount\n",
       "0 -80.278366  40.468606                  84.0\n",
       "1 -80.162117  40.384598                  95.0\n",
       "2 -80.221205  40.366778                  97.0\n",
       "3 -80.142455  40.622084                 111.0\n",
       "4 -80.131975  40.544915                 125.0"
      ]
     },
     "execution_count": 2,
     "metadata": {},
     "output_type": "execute_result"
    }
   ],
   "source": [
    "\n",
    "Data1=pd.read_csv(\"PittsburghTrafficCounts.csv\")\n",
    "Data1.head()"
   ]
  },
  {
   "cell_type": "markdown",
   "metadata": {},
   "source": [
    "#### Data preparation"
   ]
  },
  {
   "cell_type": "code",
   "execution_count": 3,
   "metadata": {},
   "outputs": [
    {
     "data": {
      "text/html": [
       "<div>\n",
       "<table border=\"1\" class=\"dataframe\">\n",
       "  <thead>\n",
       "    <tr style=\"text-align: right;\">\n",
       "      <th></th>\n",
       "      <th>Longitude</th>\n",
       "      <th>Latitude</th>\n",
       "      <th>AvgDailyTrafficCount</th>\n",
       "      <th>logTrafCount</th>\n",
       "      <th>logTrafCountCentered</th>\n",
       "    </tr>\n",
       "  </thead>\n",
       "  <tbody>\n",
       "    <tr>\n",
       "      <th>0</th>\n",
       "      <td>-80.278366</td>\n",
       "      <td>40.468606</td>\n",
       "      <td>84.0</td>\n",
       "      <td>4.430817</td>\n",
       "      <td>-3.977526</td>\n",
       "    </tr>\n",
       "    <tr>\n",
       "      <th>1</th>\n",
       "      <td>-80.162117</td>\n",
       "      <td>40.384598</td>\n",
       "      <td>95.0</td>\n",
       "      <td>4.553877</td>\n",
       "      <td>-3.854466</td>\n",
       "    </tr>\n",
       "    <tr>\n",
       "      <th>2</th>\n",
       "      <td>-80.221205</td>\n",
       "      <td>40.366778</td>\n",
       "      <td>97.0</td>\n",
       "      <td>4.574711</td>\n",
       "      <td>-3.833632</td>\n",
       "    </tr>\n",
       "    <tr>\n",
       "      <th>3</th>\n",
       "      <td>-80.142455</td>\n",
       "      <td>40.622084</td>\n",
       "      <td>111.0</td>\n",
       "      <td>4.709530</td>\n",
       "      <td>-3.698812</td>\n",
       "    </tr>\n",
       "    <tr>\n",
       "      <th>4</th>\n",
       "      <td>-80.131975</td>\n",
       "      <td>40.544915</td>\n",
       "      <td>125.0</td>\n",
       "      <td>4.828314</td>\n",
       "      <td>-3.580029</td>\n",
       "    </tr>\n",
       "  </tbody>\n",
       "</table>\n",
       "</div>"
      ],
      "text/plain": [
       "   Longitude   Latitude  AvgDailyTrafficCount  logTrafCount  \\\n",
       "0 -80.278366  40.468606                  84.0      4.430817   \n",
       "1 -80.162117  40.384598                  95.0      4.553877   \n",
       "2 -80.221205  40.366778                  97.0      4.574711   \n",
       "3 -80.142455  40.622084                 111.0      4.709530   \n",
       "4 -80.131975  40.544915                 125.0      4.828314   \n",
       "\n",
       "   logTrafCountCentered  \n",
       "0             -3.977526  \n",
       "1             -3.854466  \n",
       "2             -3.833632  \n",
       "3             -3.698812  \n",
       "4             -3.580029  "
      ]
     },
     "execution_count": 3,
     "metadata": {},
     "output_type": "execute_result"
    }
   ],
   "source": [
    "#Take log of traffic counts\n",
    "Data1['logTrafCount'] = np.log(Data1.AvgDailyTrafficCount)\n",
    "\n",
    "#Normalise by subtracting mean (i.e. centre about zero (0))\n",
    "logTrafCountMean = Data1['logTrafCount'].mean()\n",
    "Data1['logTrafCountCentered'] = Data1.logTrafCount - logTrafCountMean\n",
    "\n",
    "Data1.head()"
   ]
  },
  {
   "cell_type": "code",
   "execution_count": 4,
   "metadata": {},
   "outputs": [
    {
     "data": {
      "image/png": "[encoded data removed]",
      "text/plain": [
       "<Figure size 720x576 with 1 Axes>"
      ]
     },
     "metadata": {},
     "output_type": "display_data"
    }
   ],
   "source": [
    "fig = plt.figure(figsize=(10,8))\n",
    "labe = 'Size of dot represents\\nlog avg. daily traffic count'\n",
    "plt.scatter(Data1.Longitude, Data1.Latitude, s=Data1.logTrafCountCentered*20, c='purple', label=labe);\n",
    "plt.title(' Allegheny County traffic counts by location\\n', fontsize = 18)\n",
    "plt.xlabel('Longitude', fontsize = 16)\n",
    "plt.ylabel('Latitude', fontsize = 16)\n",
    "plt.xticks(fontsize = 13)\n",
    "plt.yticks(fontsize = 13)\n",
    "plt.legend(markerscale=100, fontsize = 14);"
   ]
  },
  {
   "cell_type": "markdown",
   "metadata": {},
   "source": [
    "1) The kernel after parameter optimization and fitting to the observed data. (10 pts)\n",
    "\n"
   ]
  },
  {
   "cell_type": "code",
   "execution_count": 5,
   "metadata": {},
   "outputs": [
    {
     "data": {
      "text/plain": [
       "(array([[-80.27836587,  40.46860562],\n",
       "        [-80.16211738,  40.38459789],\n",
       "        [-80.22120473,  40.36677795],\n",
       "        [-80.14245484,  40.6220841 ],\n",
       "        [-80.13197496,  40.54491527]]),\n",
       " array([-3.97752579, -3.85446569, -3.83363161, -3.69881238, -3.58002885]))"
      ]
     },
     "execution_count": 5,
     "metadata": {},
     "output_type": "execute_result"
    }
   ],
   "source": [
    "X = np.array(Data1[['Longitude', 'Latitude']])  # we only take the first two features.\n",
    "y = np.array(Data1.logTrafCountCentered, dtype=float)\n",
    "X[0:5], y[0:5]"
   ]
  },
  {
   "cell_type": "code",
   "execution_count": 6,
   "metadata": {},
   "outputs": [
    {
     "name": "stdout",
     "output_type": "stream",
     "text": [
      "GaussianProcessRegressor(alpha=1e-10, copy_X_train=True,\n",
      "             kernel=1**2 * RBF(length_scale=0.1) + 1**2 * RBF(length_scale=0.1) + WhiteKernel(noise_level=0.01),\n",
      "             n_restarts_optimizer=0, normalize_y=False,\n",
      "             optimizer='fmin_l_bfgs_b', random_state=999)\n"
     ]
    }
   ],
   "source": [
    "# Instantiate a Gaussian Process model with a radial basis function kernel.\n",
    "\n",
    "#kernel = RBF(length_scale, (length_scale_range_min, length_scale_range_max)) # parameters of RBF kernel: length_scale, (length_scale_range_min, length_scale_range_max)\n",
    "k1 = 1.0 * RBF([0.1])\n",
    "k2 = 1.**2 * RBF(length_scale=0.1) + WhiteKernel(noise_level=0.1**2,\n",
    "                  noise_level_bounds=(1e-3, 1e3))  # noise terms\n",
    "\n",
    "kernel = k1 + k2\n",
    "gp = GaussianProcessRegressor(kernel=kernel, random_state=999)\n",
    "\n",
    "X = np.array(Data1[['Longitude', 'Latitude']])  # we only take the first two features.\n",
    "y = np.array(Data1.logTrafCountCentered, dtype=float)\n",
    "\n",
    "# Fit to data using maximum likelihood estimation of the parameters\n",
    "gpc_rbf = gp.fit(X, y)\n",
    "print(gpc_rbf)"
   ]
  },
  {
   "cell_type": "markdown",
   "metadata": {},
   "source": [
    "2) The log marginal likelihood of the training data. (5 pts)\n",
    "\n"
   ]
  },
  {
   "cell_type": "code",
   "execution_count": 7,
   "metadata": {},
   "outputs": [
    {
     "name": "stdout",
     "output_type": "stream",
     "text": [
      "-1365.02775338\n"
     ]
    }
   ],
   "source": [
    "print(gp.log_marginal_likelihood_value_)"
   ]
  },
  {
   "cell_type": "markdown",
   "metadata": {},
   "source": [
    "3) Show a 2-D plot of the model's predictions over a mesh grid of longitude/latitude (with color corresponding to the model's predictions) and overlay a 2-D scatter plot of sensor locations (with color corresponding to the observed values). (10 pts)\n"
   ]
  },
  {
   "cell_type": "code",
   "execution_count": 8,
   "metadata": {},
   "outputs": [
    {
     "data": {
      "image/png": "[encoded data removed]",
      "text/plain": [
       "<Figure size 864x864 with 1 Axes>"
      ]
     },
     "metadata": {},
     "output_type": "display_data"
    }
   ],
   "source": [
    "h = .003  # step size in the mesh\n",
    "\n",
    "# create a mesh to plot in\n",
    "x_min, x_max = X[:, 0].min() - .1, X[:, 0].max() + .1\n",
    "y_min, y_max = X[:, 1].min() - .1, X[:, 1].max() + .1\n",
    "\n",
    "xx, yy = np.meshgrid(np.arange(x_min, x_max, h),\n",
    "                     np.arange(y_min, y_max, h))\n",
    "\n",
    "plt.figure(figsize=(12, 12))\n",
    "    # Plot the predicted probabilities. For that, we will assign a color to\n",
    "    # each point in the mesh [x_min, m_max]x[y_min, y_max].\n",
    "plt.subplot(1, 1, 1)\n",
    "Z = gpc_rbf.predict(np.c_[xx.ravel(), yy.ravel()])\n",
    "## Assign a color to each of the actual sensor observations (based on location)\n",
    "A = gpc_rbf.predict(X)\n",
    "# Put the result into a color plot\n",
    "Z = Z.reshape((xx.shape[0], xx.shape[1]))#, 3))\n",
    "#A = A.reshape(X.shape[0], X.shape[1])\n",
    "plt.imshow(Z, extent=(x_min, x_max, y_min, y_max), cmap='viridis', origin=\"lower\")\n",
    "\n",
    "# Plot also the training points\n",
    "plt.scatter(X[:, 0], X[:, 1],  c=y, cmap='viridis', edgecolors='lightblue')\n",
    "plt.xlabel('Latitude', fontsize = 16)\n",
    "plt.ylabel('Longitude', fontsize = 16)\n",
    "plt.xlim(xx.min(), xx.max())\n",
    "plt.ylim(yy.min(), yy.max())\n",
    "plt.xticks(())\n",
    "plt.yticks(())\n",
    "plt.title(\"%s, LML: %.3f\" %\n",
    "          (\"RBF\", gpc_rbf.log_marginal_likelihood(gpc_rbf.kernel_.theta)))\n",
    "\n",
    "\n",
    "\n",
    "plt.tight_layout()\n",
    "plt.show()"
   ]
  },
  {
   "cell_type": "markdown",
   "metadata": {},
   "source": [
    "\n",
    "4) What percentage of sensors have average traffic counts more than two standard deviations higher or lower than the model predicts given their spatial location? (5 pts)\n"
   ]
  },
  {
   "cell_type": "code",
   "execution_count": 9,
   "metadata": {},
   "outputs": [
    {
     "name": "stdout",
     "output_type": "stream",
     "text": [
      "The total number of sensors with traffic counts more than two (2) standard deviations \n",
      "higher or lower than the model predicts is 49, which is 4.39% of all sensors \n"
     ]
    }
   ],
   "source": [
    "threshold = 2\n",
    "\n",
    "PredWithVar = gpc_rbf.predict(X, return_std=True) # returns two arrays, one with the estimate; the other with std_dev\n",
    "TestStatCalc = abs(y - PredWithVar[0])/PredWithVar[1]\n",
    "absTestStat = abs(TestStatCalc)\n",
    "\n",
    "anomalies = sum(absTestStat > threshold)\n",
    "totalSensors = len(absTestStat)\n",
    "\n",
    "print(\"The total number of sensors with traffic counts more than two (2) standard deviations \\n\" +\n",
    "      \"higher or lower than the model predicts is {0}, which is {1}% of all sensors \"\n",
    "      .format(anomalies,round(float(anomalies)/totalSensors*100,2)))"
   ]
  },
  {
   "cell_type": "code",
   "execution_count": 10,
   "metadata": {},
   "outputs": [
    {
     "data": {
      "text/plain": [
       "4"
      ]
     },
     "execution_count": 10,
     "metadata": {},
     "output_type": "execute_result"
    }
   ],
   "source": [
    "TestStatCalc = (y - PredWithVar[0])/PredWithVar[1]\n",
    "(TestStatCalc>2).sum()"
   ]
  },
  {
   "cell_type": "code",
   "execution_count": 11,
   "metadata": {},
   "outputs": [
    {
     "data": {
      "text/plain": [
       "(1115, 2)"
      ]
     },
     "execution_count": 11,
     "metadata": {},
     "output_type": "execute_result"
    }
   ],
   "source": [
    "X.shape"
   ]
  },
  {
   "cell_type": "markdown",
   "metadata": {},
   "source": [
    "\n",
    "5) Show a 2-D scatter plot of the sensor locations, with three colors corresponding to observed values a) more than two standard deviations higher than predicted, b) more then two standard deviations lower than predicted, and c) within two standard deviations of the predicted values. (10 pts)\n"
   ]
  },
  {
   "cell_type": "code",
   "execution_count": 12,
   "metadata": {},
   "outputs": [
    {
     "data": {
      "text/plain": [
       "array([ 1.,  1.,  1., ...,  0.,  0.,  0.])"
      ]
     },
     "execution_count": 12,
     "metadata": {},
     "output_type": "execute_result"
    }
   ],
   "source": [
    "cluster = 0 * TestStatCalc  #all point assigned to cluster 0 by default\n",
    "cluster = cluster + ((y - PredWithVar[0])/PredWithVar[1] < -1 * threshold)*1 #assign clusters less than 2 std dev's away from mean to cluster 1\n",
    "cluster = cluster + ((y - PredWithVar[0])/PredWithVar[1] >  threshold)*2 #assign clusters greater than 2 std dev's away from mean to cluster 2\n",
    "cluster"
   ]
  },
  {
   "cell_type": "code",
   "execution_count": 13,
   "metadata": {},
   "outputs": [
    {
     "data": {
      "image/png": "[encoded data removed]",
      "text/plain": [
       "<Figure size 720x576 with 1 Axes>"
      ]
     },
     "metadata": {},
     "output_type": "display_data"
    }
   ],
   "source": [
    "fig = plt.figure(figsize=(10,8))\n",
    "labe = [\"Within 2 std.dev. of mean\", \"Less than -2 std.dev. away from mean\", \"Greater than +2 std.dev. away from mean\"]\n",
    "\n",
    "colorArray = np.array([\"lightblue\", \"hotpink\", \"black\"])\n",
    "\n",
    "for i, col in enumerate(colorArray):\n",
    "    plt.scatter(Data1.Longitude[cluster==i], Data1.Latitude[cluster==i], s=25, c=col, edgecolors='grey', label=labe[i]);\n",
    "\n",
    "plt.title(' Allegheny County traffic counts by location\\n', fontsize = 18)\n",
    "plt.xlabel('Longitude', fontsize = 16)\n",
    "plt.ylabel('Latitude', fontsize = 16)\n",
    "plt.xticks(fontsize = 13)\n",
    "plt.yticks(fontsize = 13)\n",
    "plt.legend(markerscale=1.5, fontsize = 14, loc='lower left');\n",
    "\n",
    "\n",
    "plt.tight_layout()\n",
    "plt.show()"
   ]
  },
  {
   "cell_type": "markdown",
   "metadata": {
    "collapsed": true
   },
   "source": [
    "### Question 2: Cluster-based anomaly detection (10 points)\n",
    "\n",
    "Given an unlabeled dataset with two real-valued attributes, we perform cluster-based anomaly detection by running k-means, choosing the number of clusters k automatically using the Schwarz criterion.  Four clusters are formed:\n",
    "\n",
    "A: 100 points, center (0, 0), standard deviation 0.1\n",
    "\n",
    "B: 150 points, center (35, 5), standard deviation 5\n",
    "\n",
    "C: 2 points, center (15, 20), standard deviation 1\n",
    "\n",
    "D: 200 points, center (10, 10), standard deviation 1\n",
    "\n",
    "Given the four points below, which of these points are, and are not, likely to be anomalies?  Choose “Anomaly” or “Not Anomaly”, and provide a brief explanation, for each point. \n",
    "(Hint: your answers should take into account the size and standard deviation of each cluster as well as the distances to cluster centers.)\n",
    "\n",
    "(1, 0)\t\tAnomaly / Not Anomaly\n",
    "\n",
    "\n",
    "(35, 2)\t\tAnomaly / Not Anomaly\n",
    "\n",
    "\n",
    "(15, 19)\tAnomaly / Not Anomaly\n",
    "\n",
    "\n",
    "(10, 11)\tAnomaly / Not Anomaly\n"
   ]
  },
  {
   "cell_type": "markdown",
   "metadata": {},
   "source": [
    "#### Your solution here\n",
    "\n",
    "(1, 0)\t\t**Anomaly** - the closest cluster center is (0,0) but those 100 points are tightly concentrated (with std. dev. = 0.1). This point (1, 0) is a large number of standard deviations (greater than 5) away from the centre.\n",
    "\n",
    "\n",
    "(35, 2)\t\t**Not Anomaly** - closest cluster center is (35,5) and point is within a reasonable std. dev. distance of the cluster (the standard deviation is 5, so we're less than a single standard deviation away from the center).\n",
    "\n",
    "\n",
    "(15, 19)\t**Anomaly** - it's a member of the cluster with center (15, 20). This has only two points, so both these observations would be considered anomalies. \n",
    "\n",
    "\n",
    "(10, 11)\t**Not Anomaly** - closest cluster center is (10, 10). The standard deviation of cluster is 1; and the point (10, 11) is within 1 standard deviation away form the center.\n"
   ]
  },
  {
   "cell_type": "markdown",
   "metadata": {},
   "source": [
    "### Question 3: Anomaly detection (50 points)\n",
    "\n",
    "For this question, use the \"County Health Indicators\" dataset provided to identify the most anomalous counties. Please list the top 5 most anomalous counties computed using each of the following models.  (We recommend that, as a pre-processing step, you drop na values, and make sure all numeric values are treated as floats not strings.)\n",
    "\n",
    "Part 1: Learn a Bayesian network structure using only the six features [\"'\\% Smokers'\",\"'\\% Obese'\",\"'Violent Crime Rate'\",\"'80/20 Income Ratio'\",\"'\\% Children in Poverty'\",\"'Average Daily PM2.5'\"].  Use pd.cut() to discretize each feature into 5 categories: 0,1,2,3,4. \n",
    "\n",
    "(a) Use HillClimbSearch and BicScore to learn the Bayesian network structure (5 pts) \n",
    "\n",
    "(b) Which 5 counties have the lowest (most negative) log-likelihood values? Please show a ranked list of the top counties' names and log-likelihood values. (10 pts)\n",
    "\n",
    "Part 2: Cluster based anomaly detection.  Use all numeric features for this part, and do not discretize. \n",
    "\n",
    "(a) Clustering with k-means. Please use k=3 clusters. Compute each record's distance to the nearest cluster center and report the five counties which have the longest distances. (10 pts)\n",
    "\n",
    "(b) Cluster with Gaussian Mixture. Please repeat (2)a but use log-likelihood for each record (rather than distance) as the measure of anomalousness. (10 pts)\n",
    "\n",
    "Part 3: Choose one more anomaly detection model you prefer and report the top 5 most anomalous counties by the model you chose.  (10 pts)\n",
    "\n",
    "Part 4: Compare and contrast the results from the different models.  Were there some counties that were found to be anomalous in some models and not in others?  Please provide some intuitions on why each county was found to be anomalous. (5 pts)"
   ]
  },
  {
   "cell_type": "code",
   "execution_count": 14,
   "metadata": {},
   "outputs": [
    {
     "data": {
      "text/html": [
       "<div>\n",
       "<table border=\"1\" class=\"dataframe\">\n",
       "  <thead>\n",
       "    <tr style=\"text-align: right;\">\n",
       "      <th></th>\n",
       "      <th>County</th>\n",
       "      <th>'\\% Reporting Fair/Poor Health'</th>\n",
       "      <th>'Physically Unhealthy Days Per Month'</th>\n",
       "      <th>'Mentally Unhealthy Days Per Month'</th>\n",
       "      <th>'\\% Low birth weight births'</th>\n",
       "      <th>'\\% Smokers'</th>\n",
       "      <th>'\\% Obese'</th>\n",
       "      <th>'Food Environment Index'</th>\n",
       "      <th>'\\% Physically Inactive'</th>\n",
       "      <th>'\\% With Access To Exercise'</th>\n",
       "      <th>...</th>\n",
       "      <th>'\\% Children in Poverty'</th>\n",
       "      <th>'80/20 Income Ratio'</th>\n",
       "      <th>'\\% Single-Parent Households'</th>\n",
       "      <th>'Association Rate'</th>\n",
       "      <th>'Violent Crime Rate'</th>\n",
       "      <th>'Injury Death Rate'</th>\n",
       "      <th>'Average Daily PM2.5'</th>\n",
       "      <th>'\\% Severe Housing Problems'</th>\n",
       "      <th>'\\% Drive Alone'</th>\n",
       "      <th>'\\% Long Commute - Drives Alone'</th>\n",
       "    </tr>\n",
       "  </thead>\n",
       "  <tbody>\n",
       "    <tr>\n",
       "      <th>0</th>\n",
       "      <td>Autauga, Alabama</td>\n",
       "      <td>19</td>\n",
       "      <td>4.4</td>\n",
       "      <td>4.3</td>\n",
       "      <td>9</td>\n",
       "      <td>19</td>\n",
       "      <td>31</td>\n",
       "      <td>7.1</td>\n",
       "      <td>29</td>\n",
       "      <td>71</td>\n",
       "      <td>...</td>\n",
       "      <td>18</td>\n",
       "      <td>4.3</td>\n",
       "      <td>27</td>\n",
       "      <td>13.8</td>\n",
       "      <td>254</td>\n",
       "      <td>76</td>\n",
       "      <td>12.9</td>\n",
       "      <td>14</td>\n",
       "      <td>89</td>\n",
       "      <td>42</td>\n",
       "    </tr>\n",
       "    <tr>\n",
       "      <th>1</th>\n",
       "      <td>Baldwin, Alabama</td>\n",
       "      <td>16</td>\n",
       "      <td>4.1</td>\n",
       "      <td>4.2</td>\n",
       "      <td>9</td>\n",
       "      <td>19</td>\n",
       "      <td>27</td>\n",
       "      <td>7.6</td>\n",
       "      <td>25</td>\n",
       "      <td>72</td>\n",
       "      <td>...</td>\n",
       "      <td>20</td>\n",
       "      <td>4.5</td>\n",
       "      <td>28</td>\n",
       "      <td>12.0</td>\n",
       "      <td>221</td>\n",
       "      <td>70</td>\n",
       "      <td>13.1</td>\n",
       "      <td>15</td>\n",
       "      <td>84</td>\n",
       "      <td>37</td>\n",
       "    </tr>\n",
       "    <tr>\n",
       "      <th>2</th>\n",
       "      <td>Barbour, Alabama</td>\n",
       "      <td>26</td>\n",
       "      <td>4.9</td>\n",
       "      <td>4.7</td>\n",
       "      <td>12</td>\n",
       "      <td>21</td>\n",
       "      <td>41</td>\n",
       "      <td>5.1</td>\n",
       "      <td>33</td>\n",
       "      <td>45</td>\n",
       "      <td>...</td>\n",
       "      <td>38</td>\n",
       "      <td>5.3</td>\n",
       "      <td>54</td>\n",
       "      <td>8.1</td>\n",
       "      <td>147</td>\n",
       "      <td>64</td>\n",
       "      <td>12.6</td>\n",
       "      <td>18</td>\n",
       "      <td>84</td>\n",
       "      <td>35</td>\n",
       "    </tr>\n",
       "    <tr>\n",
       "      <th>3</th>\n",
       "      <td>Bibb, Alabama</td>\n",
       "      <td>22</td>\n",
       "      <td>4.8</td>\n",
       "      <td>4.6</td>\n",
       "      <td>12</td>\n",
       "      <td>21</td>\n",
       "      <td>40</td>\n",
       "      <td>7.4</td>\n",
       "      <td>33</td>\n",
       "      <td>33</td>\n",
       "      <td>...</td>\n",
       "      <td>27</td>\n",
       "      <td>4.3</td>\n",
       "      <td>32</td>\n",
       "      <td>9.8</td>\n",
       "      <td>236</td>\n",
       "      <td>75</td>\n",
       "      <td>12.9</td>\n",
       "      <td>13</td>\n",
       "      <td>84</td>\n",
       "      <td>46</td>\n",
       "    </tr>\n",
       "    <tr>\n",
       "      <th>4</th>\n",
       "      <td>Blount, Alabama</td>\n",
       "      <td>21</td>\n",
       "      <td>4.6</td>\n",
       "      <td>4.5</td>\n",
       "      <td>7</td>\n",
       "      <td>19</td>\n",
       "      <td>32</td>\n",
       "      <td>8.3</td>\n",
       "      <td>29</td>\n",
       "      <td>26</td>\n",
       "      <td>...</td>\n",
       "      <td>24</td>\n",
       "      <td>4.1</td>\n",
       "      <td>28</td>\n",
       "      <td>8.5</td>\n",
       "      <td>219</td>\n",
       "      <td>89</td>\n",
       "      <td>12.7</td>\n",
       "      <td>12</td>\n",
       "      <td>85</td>\n",
       "      <td>59</td>\n",
       "    </tr>\n",
       "  </tbody>\n",
       "</table>\n",
       "<p>5 rows × 31 columns</p>\n",
       "</div>"
      ],
      "text/plain": [
       "             County '\\% Reporting Fair/Poor Health'  \\\n",
       "0  Autauga, Alabama                              19   \n",
       "1  Baldwin, Alabama                              16   \n",
       "2  Barbour, Alabama                              26   \n",
       "3     Bibb, Alabama                              22   \n",
       "4   Blount, Alabama                              21   \n",
       "\n",
       "  'Physically Unhealthy Days Per Month' 'Mentally Unhealthy Days Per Month'  \\\n",
       "0                                   4.4                                 4.3   \n",
       "1                                   4.1                                 4.2   \n",
       "2                                   4.9                                 4.7   \n",
       "3                                   4.8                                 4.6   \n",
       "4                                   4.6                                 4.5   \n",
       "\n",
       "  '\\% Low birth weight births' '\\% Smokers'  '\\% Obese'  \\\n",
       "0                            9           19          31   \n",
       "1                            9           19          27   \n",
       "2                           12           21          41   \n",
       "3                           12           21          40   \n",
       "4                            7           19          32   \n",
       "\n",
       "   'Food Environment Index'  '\\% Physically Inactive'  \\\n",
       "0                       7.1                        29   \n",
       "1                       7.6                        25   \n",
       "2                       5.1                        33   \n",
       "3                       7.4                        33   \n",
       "4                       8.3                        29   \n",
       "\n",
       "  '\\% With Access To Exercise'               ...                 \\\n",
       "0                           71               ...                  \n",
       "1                           72               ...                  \n",
       "2                           45               ...                  \n",
       "3                           33               ...                  \n",
       "4                           26               ...                  \n",
       "\n",
       "  '\\% Children in Poverty' '80/20 Income Ratio' '\\% Single-Parent Households'  \\\n",
       "0                       18                  4.3                            27   \n",
       "1                       20                  4.5                            28   \n",
       "2                       38                  5.3                            54   \n",
       "3                       27                  4.3                            32   \n",
       "4                       24                  4.1                            28   \n",
       "\n",
       "  'Association Rate' 'Violent Crime Rate' 'Injury Death Rate'  \\\n",
       "0               13.8                  254                  76   \n",
       "1               12.0                  221                  70   \n",
       "2                8.1                  147                  64   \n",
       "3                9.8                  236                  75   \n",
       "4                8.5                  219                  89   \n",
       "\n",
       "  'Average Daily PM2.5' '\\% Severe Housing Problems' '\\% Drive Alone'  \\\n",
       "0                  12.9                           14               89   \n",
       "1                  13.1                           15               84   \n",
       "2                  12.6                           18               84   \n",
       "3                  12.9                           13               84   \n",
       "4                  12.7                           12               85   \n",
       "\n",
       "  '\\% Long Commute - Drives Alone'  \n",
       "0                               42  \n",
       "1                               37  \n",
       "2                               35  \n",
       "3                               46  \n",
       "4                               59  \n",
       "\n",
       "[5 rows x 31 columns]"
      ]
     },
     "execution_count": 14,
     "metadata": {},
     "output_type": "execute_result"
    }
   ],
   "source": [
    "Data2=pd.read_csv(\"2016CountyHealthIndicators.csv\")\n",
    "Data2.head()"
   ]
  },
  {
   "cell_type": "code",
   "execution_count": 15,
   "metadata": {},
   "outputs": [],
   "source": [
    "Data2 = Data2.copy()"
   ]
  },
  {
   "cell_type": "code",
   "execution_count": 16,
   "metadata": {},
   "outputs": [],
   "source": [
    "#Convert to numeric\n",
    "Data2.iloc[:,1:] = Data2.iloc[:,1:].apply(pd.to_numeric, errors='coerce')\n",
    "\n",
    "#Drop Nan values\n",
    "Data2.dropna(inplace=True)\n",
    "\n",
    "#Reset index\n",
    "Data2.reset_index(drop=True, inplace=True)\n",
    "\n"
   ]
  },
  {
   "cell_type": "code",
   "execution_count": 17,
   "metadata": {},
   "outputs": [
    {
     "data": {
      "text/plain": [
       "Index([u'County', u''\\% Reporting Fair/Poor Health'',\n",
       "       u''Physically Unhealthy Days Per Month'',\n",
       "       u''Mentally Unhealthy Days Per Month'', u''\\% Low birth weight births'',\n",
       "       u''\\% Smokers'', u''\\% Obese'', u''Food Environment Index'',\n",
       "       u''\\% Physically Inactive'', u''\\% With Access To Exercise'',\n",
       "       u''\\% Excessive Drinking'', u''\\% Alcohol-Impaired Driving Deaths'',\n",
       "       u''Chlamydia Rate'', u''Teen Birth Rate'', u''\\% Uninsured'',\n",
       "       u''Preventable Hosp. Rate'', u''\\% Dibetics receiving HbA1c'',\n",
       "       u''\\% Mammography'', u''Graduation Rate'', u''\\% Some College'',\n",
       "       u''\\% Unemployed'', u''\\% Children in Poverty'',\n",
       "       u''80/20 Income Ratio'', u''\\% Single-Parent Households'',\n",
       "       u''Association Rate'', u''Violent Crime Rate'', u''Injury Death Rate'',\n",
       "       u''Average Daily PM2.5'', u''\\% Severe Housing Problems'',\n",
       "       u''\\% Drive Alone'', u''\\% Long Commute - Drives Alone''],\n",
       "      dtype='object')"
      ]
     },
     "execution_count": 17,
     "metadata": {},
     "output_type": "execute_result"
    }
   ],
   "source": [
    "# your code here\n",
    "Data2.columns"
   ]
  },
  {
   "cell_type": "markdown",
   "metadata": {},
   "source": [
    "### Part 1: \n",
    "\n",
    "Learn a Bayesian network structure using only the six features [\"'\\% Smokers'\",\"'\\% Obese'\",\"'Violent Crime Rate'\",\"'80/20 Income Ratio'\",\"'\\% Children in Poverty'\",\"'Average Daily PM2.5'\"].  Use pd.cut() to discretize each feature into 5 categories: 0,1,2,3,4. \n",
    "\n",
    "(a) Use HillClimbSearch and BicScore to learn the Bayesian network structure (5 pts) \n"
   ]
  },
  {
   "cell_type": "code",
   "execution_count": 18,
   "metadata": {},
   "outputs": [],
   "source": [
    "Data2Subset = Data2[[\"'\\% Smokers'\",\"'\\% Obese'\",\"'Violent Crime Rate'\",\"'80/20 Income Ratio'\",\n",
    "                     \"'\\% Children in Poverty'\",\"'Average Daily PM2.5'\"]]\n",
    "\n"
   ]
  },
  {
   "cell_type": "code",
   "execution_count": 19,
   "metadata": {},
   "outputs": [
    {
     "name": "stderr",
     "output_type": "stream",
     "text": [
      "/nfshome/jlk635/.conda/envs/VirtEnv/lib/python2.7/site-packages/pandas/core/frame.py:2754: SettingWithCopyWarning: \n",
      "A value is trying to be set on a copy of a slice from a DataFrame\n",
      "\n",
      "See the caveats in the documentation: http://pandas.pydata.org/pandas-docs/stable/indexing.html#indexing-view-versus-copy\n",
      "  **kwargs)\n",
      "/nfshome/jlk635/.conda/envs/VirtEnv/lib/python2.7/site-packages/ipykernel_launcher.py:10: SettingWithCopyWarning: \n",
      "A value is trying to be set on a copy of a slice from a DataFrame\n",
      "\n",
      "See the caveats in the documentation: http://pandas.pydata.org/pandas-docs/stable/indexing.html#indexing-view-versus-copy\n",
      "  # Remove the CWD from sys.path while we load stuff.\n"
     ]
    }
   ],
   "source": [
    "#Rename columns headings\n",
    "renameColumns = {\"'\\% Smokers'\":'pctSmokers',\n",
    "                 \"'\\% Obese'\":'pctObese',\n",
    "                 \"'Violent Crime Rate'\":'ViolentCrimeRate',\n",
    "                 \"'80/20 Income Ratio'\":'IncomeRatio',\n",
    "                 \"'\\% Children in Poverty'\": 'pctChildrenInPoverty',\n",
    "                 \"'Average Daily PM2.5'\":'AvgDailyPM2.5'}\n",
    "                 \n",
    "Data2Subset.rename(columns = renameColumns, inplace = True)\n",
    "Data2Subset.dropna(inplace = True)"
   ]
  },
  {
   "cell_type": "code",
   "execution_count": 20,
   "metadata": {},
   "outputs": [
    {
     "data": {
      "text/html": [
       "<div>\n",
       "<table border=\"1\" class=\"dataframe\">\n",
       "  <thead>\n",
       "    <tr style=\"text-align: right;\">\n",
       "      <th></th>\n",
       "      <th>pctSmokers</th>\n",
       "      <th>pctObese</th>\n",
       "      <th>ViolentCrimeRate</th>\n",
       "      <th>IncomeRatio</th>\n",
       "      <th>pctChildrenInPoverty</th>\n",
       "      <th>AvgDailyPM2.5</th>\n",
       "    </tr>\n",
       "  </thead>\n",
       "  <tbody>\n",
       "    <tr>\n",
       "      <th>0</th>\n",
       "      <td>19.0</td>\n",
       "      <td>31</td>\n",
       "      <td>254.0</td>\n",
       "      <td>4.3</td>\n",
       "      <td>18.0</td>\n",
       "      <td>12.9</td>\n",
       "    </tr>\n",
       "    <tr>\n",
       "      <th>1</th>\n",
       "      <td>19.0</td>\n",
       "      <td>27</td>\n",
       "      <td>221.0</td>\n",
       "      <td>4.5</td>\n",
       "      <td>20.0</td>\n",
       "      <td>13.1</td>\n",
       "    </tr>\n",
       "    <tr>\n",
       "      <th>2</th>\n",
       "      <td>21.0</td>\n",
       "      <td>41</td>\n",
       "      <td>147.0</td>\n",
       "      <td>5.3</td>\n",
       "      <td>38.0</td>\n",
       "      <td>12.6</td>\n",
       "    </tr>\n",
       "    <tr>\n",
       "      <th>3</th>\n",
       "      <td>21.0</td>\n",
       "      <td>40</td>\n",
       "      <td>236.0</td>\n",
       "      <td>4.3</td>\n",
       "      <td>27.0</td>\n",
       "      <td>12.9</td>\n",
       "    </tr>\n",
       "    <tr>\n",
       "      <th>4</th>\n",
       "      <td>19.0</td>\n",
       "      <td>32</td>\n",
       "      <td>219.0</td>\n",
       "      <td>4.1</td>\n",
       "      <td>24.0</td>\n",
       "      <td>12.7</td>\n",
       "    </tr>\n",
       "  </tbody>\n",
       "</table>\n",
       "</div>"
      ],
      "text/plain": [
       "   pctSmokers  pctObese  ViolentCrimeRate  IncomeRatio  pctChildrenInPoverty  \\\n",
       "0        19.0        31             254.0          4.3                  18.0   \n",
       "1        19.0        27             221.0          4.5                  20.0   \n",
       "2        21.0        41             147.0          5.3                  38.0   \n",
       "3        21.0        40             236.0          4.3                  27.0   \n",
       "4        19.0        32             219.0          4.1                  24.0   \n",
       "\n",
       "   AvgDailyPM2.5  \n",
       "0           12.9  \n",
       "1           13.1  \n",
       "2           12.6  \n",
       "3           12.9  \n",
       "4           12.7  "
      ]
     },
     "execution_count": 20,
     "metadata": {},
     "output_type": "execute_result"
    }
   ],
   "source": [
    "Data2SubsetDiscr = Data2Subset.copy()\n",
    "Data2SubsetDiscr.head()"
   ]
  },
  {
   "cell_type": "code",
   "execution_count": 21,
   "metadata": {},
   "outputs": [],
   "source": [
    "\n",
    "for i in Data2Subset.columns: \n",
    "    Data2SubsetDiscr[i] = pd.cut(Data2Subset[i], 5, labels=[0,1,2,3,4])\n",
    "    Data2SubsetDiscr[i] = Data2SubsetDiscr[i].apply(pd.to_numeric, errors='coerce')\n",
    "\n",
    "#Data2SubsetDiscr.dropna(inplace=True)"
   ]
  },
  {
   "cell_type": "code",
   "execution_count": 22,
   "metadata": {},
   "outputs": [
    {
     "data": {
      "text/plain": [
       "pctSmokers              category\n",
       "pctObese                category\n",
       "ViolentCrimeRate        category\n",
       "IncomeRatio             category\n",
       "pctChildrenInPoverty    category\n",
       "AvgDailyPM2.5           category\n",
       "dtype: object"
      ]
     },
     "execution_count": 22,
     "metadata": {},
     "output_type": "execute_result"
    }
   ],
   "source": [
    "Data2SubsetDiscr.dtypes"
   ]
  },
  {
   "cell_type": "code",
   "execution_count": 23,
   "metadata": {},
   "outputs": [
    {
     "data": {
      "text/html": [
       "<div>\n",
       "<table border=\"1\" class=\"dataframe\">\n",
       "  <thead>\n",
       "    <tr style=\"text-align: right;\">\n",
       "      <th></th>\n",
       "      <th>pctSmokers</th>\n",
       "      <th>pctObese</th>\n",
       "      <th>ViolentCrimeRate</th>\n",
       "      <th>IncomeRatio</th>\n",
       "      <th>pctChildrenInPoverty</th>\n",
       "      <th>AvgDailyPM2.5</th>\n",
       "    </tr>\n",
       "  </thead>\n",
       "  <tbody>\n",
       "    <tr>\n",
       "      <th>0</th>\n",
       "      <td>1</td>\n",
       "      <td>2</td>\n",
       "      <td>0</td>\n",
       "      <td>1</td>\n",
       "      <td>1</td>\n",
       "      <td>3</td>\n",
       "    </tr>\n",
       "    <tr>\n",
       "      <th>1</th>\n",
       "      <td>1</td>\n",
       "      <td>2</td>\n",
       "      <td>0</td>\n",
       "      <td>1</td>\n",
       "      <td>1</td>\n",
       "      <td>3</td>\n",
       "    </tr>\n",
       "    <tr>\n",
       "      <th>2</th>\n",
       "      <td>2</td>\n",
       "      <td>4</td>\n",
       "      <td>0</td>\n",
       "      <td>2</td>\n",
       "      <td>3</td>\n",
       "      <td>3</td>\n",
       "    </tr>\n",
       "    <tr>\n",
       "      <th>3</th>\n",
       "      <td>2</td>\n",
       "      <td>4</td>\n",
       "      <td>0</td>\n",
       "      <td>1</td>\n",
       "      <td>2</td>\n",
       "      <td>3</td>\n",
       "    </tr>\n",
       "    <tr>\n",
       "      <th>4</th>\n",
       "      <td>1</td>\n",
       "      <td>2</td>\n",
       "      <td>0</td>\n",
       "      <td>1</td>\n",
       "      <td>2</td>\n",
       "      <td>3</td>\n",
       "    </tr>\n",
       "  </tbody>\n",
       "</table>\n",
       "</div>"
      ],
      "text/plain": [
       "  pctSmokers pctObese ViolentCrimeRate IncomeRatio pctChildrenInPoverty  \\\n",
       "0          1        2                0           1                    1   \n",
       "1          1        2                0           1                    1   \n",
       "2          2        4                0           2                    3   \n",
       "3          2        4                0           1                    2   \n",
       "4          1        2                0           1                    2   \n",
       "\n",
       "  AvgDailyPM2.5  \n",
       "0             3  \n",
       "1             3  \n",
       "2             3  \n",
       "3             3  \n",
       "4             3  "
      ]
     },
     "execution_count": 23,
     "metadata": {},
     "output_type": "execute_result"
    }
   ],
   "source": [
    "Data2SubsetDiscr.head()"
   ]
  },
  {
   "cell_type": "code",
   "execution_count": 24,
   "metadata": {},
   "outputs": [
    {
     "name": "stdout",
     "output_type": "stream",
     "text": [
      "[1, 2, 3, 0, 4]\n",
      "Categories (5, int64): [0 < 1 < 2 < 3 < 4]\n",
      "[2, 4, 3, 1, 0]\n",
      "Categories (5, int64): [0 < 1 < 2 < 3 < 4]\n",
      "[0, 1, 2, 4, 3]\n",
      "Categories (5, int64): [0 < 1 < 2 < 3 < 4]\n",
      "[1, 2, 3, 0, 4]\n",
      "Categories (5, int64): [0 < 1 < 2 < 3 < 4]\n",
      "[1, 3, 2, 4, 0]\n",
      "Categories (5, int64): [0 < 1 < 2 < 3 < 4]\n",
      "[3, 1, 2, 0, 4]\n",
      "Categories (5, int64): [0 < 1 < 2 < 3 < 4]\n"
     ]
    }
   ],
   "source": [
    "for i in Data2SubsetDiscr.columns:\n",
    "    print(Data2SubsetDiscr[i].unique())"
   ]
  },
  {
   "cell_type": "code",
   "execution_count": 25,
   "metadata": {},
   "outputs": [
    {
     "name": "stdout",
     "output_type": "stream",
     "text": [
      "[('ViolentCrimeRate', 'pctChildrenInPoverty'), ('pctChildrenInPoverty', 'IncomeRatio'), ('pctChildrenInPoverty', 'pctSmokers'), ('pctSmokers', 'AvgDailyPM2.5'), ('pctSmokers', 'pctObese')]\n"
     ]
    }
   ],
   "source": [
    "hc = HillClimbSearch(Data2SubsetDiscr, scoring_method=BicScore(Data2SubsetDiscr))\n",
    "best_model = hc.estimate()\n",
    "print(best_model.edges())"
   ]
  },
  {
   "cell_type": "code",
   "execution_count": 26,
   "metadata": {},
   "outputs": [
    {
     "name": "stdout",
     "output_type": "stream",
     "text": [
      "CPD of AvgDailyPM2.5:\n",
      "+------------------+-----------------+-----------------+------------------+---------------+---------------+\n",
      "| pctSmokers       | pctSmokers(0)   | pctSmokers(1)   | pctSmokers(2)    | pctSmokers(3) | pctSmokers(4) |\n",
      "+------------------+-----------------+-----------------+------------------+---------------+---------------+\n",
      "| AvgDailyPM2.5(0) | 0.207692307692  | 0.0532043530834 | 0.00888888888889 | 0.0           | 0.0           |\n",
      "+------------------+-----------------+-----------------+------------------+---------------+---------------+\n",
      "| AvgDailyPM2.5(1) | 0.169230769231  | 0.168681983071  | 0.0948148148148  | 0.0           | 0.5           |\n",
      "+------------------+-----------------+-----------------+------------------+---------------+---------------+\n",
      "| AvgDailyPM2.5(2) | 0.292307692308  | 0.286577992745  | 0.198518518519   | 0.16          | 0.5           |\n",
      "+------------------+-----------------+-----------------+------------------+---------------+---------------+\n",
      "| AvgDailyPM2.5(3) | 0.284615384615  | 0.404474002418  | 0.453333333333   | 0.76          | 0.0           |\n",
      "+------------------+-----------------+-----------------+------------------+---------------+---------------+\n",
      "| AvgDailyPM2.5(4) | 0.0461538461538 | 0.087061668682  | 0.244444444444   | 0.08          | 0.0           |\n",
      "+------------------+-----------------+-----------------+------------------+---------------+---------------+\n",
      "CPD of IncomeRatio:\n",
      "+----------------------+-------------------------+-------------------------+-------------------------+-------------------------+-------------------------+\n",
      "| pctChildrenInPoverty | pctChildrenInPoverty(0) | pctChildrenInPoverty(1) | pctChildrenInPoverty(2) | pctChildrenInPoverty(3) | pctChildrenInPoverty(4) |\n",
      "+----------------------+-------------------------+-------------------------+-------------------------+-------------------------+-------------------------+\n",
      "| IncomeRatio(0)       | 0.487544483986          | 0.241134751773          | 0.0611790878754         | 0.0265151515152         | 0.0                     |\n",
      "+----------------------+-------------------------+-------------------------+-------------------------+-------------------------+-------------------------+\n",
      "| IncomeRatio(1)       | 0.487544483986          | 0.705167173252          | 0.759733036707          | 0.439393939394          | 0.145454545455          |\n",
      "+----------------------+-------------------------+-------------------------+-------------------------+-------------------------+-------------------------+\n",
      "| IncomeRatio(2)       | 0.0213523131673         | 0.0425531914894         | 0.157953281424          | 0.462121212121          | 0.672727272727          |\n",
      "+----------------------+-------------------------+-------------------------+-------------------------+-------------------------+-------------------------+\n",
      "| IncomeRatio(3)       | 0.00355871886121        | 0.0081053698075         | 0.0177975528365         | 0.0681818181818         | 0.181818181818          |\n",
      "+----------------------+-------------------------+-------------------------+-------------------------+-------------------------+-------------------------+\n",
      "| IncomeRatio(4)       | 0.0                     | 0.00303951367781        | 0.00333704115684        | 0.00378787878788        | 0.0                     |\n",
      "+----------------------+-------------------------+-------------------------+-------------------------+-------------------------+-------------------------+\n",
      "CPD of ViolentCrimeRate:\n",
      "+---------------------+-------------+\n",
      "| ViolentCrimeRate(0) | 0.778359    |\n",
      "+---------------------+-------------+\n",
      "| ViolentCrimeRate(1) | 0.193886    |\n",
      "+---------------------+-------------+\n",
      "| ViolentCrimeRate(2) | 0.0221239   |\n",
      "+---------------------+-------------+\n",
      "| ViolentCrimeRate(3) | 0.00482703  |\n",
      "+---------------------+-------------+\n",
      "| ViolentCrimeRate(4) | 0.000804505 |\n",
      "+---------------------+-------------+\n",
      "CPD of pctChildrenInPoverty:\n",
      "+-------------------------+---------------------+---------------------+---------------------+---------------------+---------------------+\n",
      "| ViolentCrimeRate        | ViolentCrimeRate(0) | ViolentCrimeRate(1) | ViolentCrimeRate(2) | ViolentCrimeRate(3) | ViolentCrimeRate(4) |\n",
      "+-------------------------+---------------------+---------------------+---------------------+---------------------+---------------------+\n",
      "| pctChildrenInPoverty(0) | 0.139534883721      | 0.0207468879668     | 0.0181818181818     | 0.0                 | 0.0                 |\n",
      "+-------------------------+---------------------+---------------------+---------------------+---------------------+---------------------+\n",
      "| pctChildrenInPoverty(1) | 0.439793281654      | 0.269709543568      | 0.109090909091      | 0.0                 | 0.0                 |\n",
      "+-------------------------+---------------------+---------------------+---------------------+---------------------+---------------------+\n",
      "| pctChildrenInPoverty(2) | 0.330749354005      | 0.473029045643      | 0.436363636364      | 0.583333333333      | 0.0                 |\n",
      "+-------------------------+---------------------+---------------------+---------------------+---------------------+---------------------+\n",
      "| pctChildrenInPoverty(3) | 0.0749354005168     | 0.207468879668      | 0.254545454545      | 0.25                | 1.0                 |\n",
      "+-------------------------+---------------------+---------------------+---------------------+---------------------+---------------------+\n",
      "| pctChildrenInPoverty(4) | 0.0149870801034     | 0.0290456431535     | 0.181818181818      | 0.166666666667      | 0.0                 |\n",
      "+-------------------------+---------------------+---------------------+---------------------+---------------------+---------------------+\n",
      "CPD of pctObese:\n",
      "+-------------+-----------------+------------------+------------------+---------------+---------------+\n",
      "| pctSmokers  | pctSmokers(0)   | pctSmokers(1)    | pctSmokers(2)    | pctSmokers(3) | pctSmokers(4) |\n",
      "+-------------+-----------------+------------------+------------------+---------------+---------------+\n",
      "| pctObese(0) | 0.0769230769231 | 0.00725513905683 | 0.0              | 0.0           | 0.0           |\n",
      "+-------------+-----------------+------------------+------------------+---------------+---------------+\n",
      "| pctObese(1) | 0.561538461538  | 0.0979443772672  | 0.00444444444444 | 0.0           | 0.0           |\n",
      "+-------------+-----------------+------------------+------------------+---------------+---------------+\n",
      "| pctObese(2) | 0.338461538462  | 0.63784764208    | 0.274074074074   | 0.04          | 0.0           |\n",
      "+-------------+-----------------+------------------+------------------+---------------+---------------+\n",
      "| pctObese(3) | 0.0230769230769 | 0.253325272068   | 0.651851851852   | 0.68          | 0.0           |\n",
      "+-------------+-----------------+------------------+------------------+---------------+---------------+\n",
      "| pctObese(4) | 0.0             | 0.00362756952842 | 0.0696296296296  | 0.28          | 1.0           |\n",
      "+-------------+-----------------+------------------+------------------+---------------+---------------+\n",
      "CPD of pctSmokers:\n",
      "+----------------------+-------------------------+-------------------------+-------------------------+-------------------------+-------------------------+\n",
      "| pctChildrenInPoverty | pctChildrenInPoverty(0) | pctChildrenInPoverty(1) | pctChildrenInPoverty(2) | pctChildrenInPoverty(3) | pctChildrenInPoverty(4) |\n",
      "+----------------------+-------------------------+-------------------------+-------------------------+-------------------------+-------------------------+\n",
      "| pctSmokers(0)        | 0.241992882562          | 0.0536980749747         | 0.00889877641824        | 0.00378787878788        | 0.0                     |\n",
      "+----------------------+-------------------------+-------------------------+-------------------------+-------------------------+-------------------------+\n",
      "| pctSmokers(1)        | 0.743772241993          | 0.830800405268          | 0.581757508343          | 0.340909090909          | 0.218181818182          |\n",
      "+----------------------+-------------------------+-------------------------+-------------------------+-------------------------+-------------------------+\n",
      "| pctSmokers(2)        | 0.0142348754448         | 0.115501519757          | 0.406006674082          | 0.621212121212          | 0.509090909091          |\n",
      "+----------------------+-------------------------+-------------------------+-------------------------+-------------------------+-------------------------+\n",
      "| pctSmokers(3)        | 0.0                     | 0.0                     | 0.00333704115684        | 0.030303030303          | 0.254545454545          |\n",
      "+----------------------+-------------------------+-------------------------+-------------------------+-------------------------+-------------------------+\n",
      "| pctSmokers(4)        | 0.0                     | 0.0                     | 0.0                     | 0.00378787878788        | 0.0181818181818         |\n",
      "+----------------------+-------------------------+-------------------------+-------------------------+-------------------------+-------------------------+\n"
     ]
    }
   ],
   "source": [
    "model = BayesianModel(best_model.edges())\n",
    "model.fit(Data2SubsetDiscr, estimator=MaximumLikelihoodEstimator)\n",
    "for cpd in model.get_cpds():\n",
    "    print(\"CPD of {variable}:\".format(variable=cpd.variable))\n",
    "    print(cpd)"
   ]
  },
  {
   "cell_type": "markdown",
   "metadata": {},
   "source": [
    "(b) Which 5 counties have the lowest (most negative) log-likelihood values? Please show a ranked list of the top counties' names and log-likelihood values. (10 pts)"
   ]
  },
  {
   "cell_type": "code",
   "execution_count": 27,
   "metadata": {},
   "outputs": [],
   "source": [
    "Data2SubsetDiscr = Data2SubsetDiscr.apply(pd.to_numeric, errors='coerce')\n",
    "\n",
    "Data2SubsetDiscr.dropna(inplace=True)"
   ]
  },
  {
   "cell_type": "code",
   "execution_count": 28,
   "metadata": {},
   "outputs": [],
   "source": [
    "# Log-likelihood of data record x given model\n",
    "def LL(x,model,verbose=False):\n",
    "    loglike = 0\n",
    "    for cpd in model.get_cpds():\n",
    "        temp_cpd = cpd.copy()\n",
    "        thevariable = temp_cpd.variable\n",
    "        theparents = model.predecessors(thevariable)\n",
    "        for parent in theparents:\n",
    "            temp_cpd.reduce([(parent, x[parent])])\n",
    "        theprob = temp_cpd.get_values()[x[thevariable],0]\n",
    "        if verbose:\n",
    "            print thevariable,theparents,theprob\n",
    "        loglike += np.log(theprob)\n",
    "    return loglike"
   ]
  },
  {
   "cell_type": "code",
   "execution_count": 29,
   "metadata": {},
   "outputs": [
    {
     "data": {
      "text/plain": [
       "pctSmokers              int64\n",
       "pctObese                int64\n",
       "ViolentCrimeRate        int64\n",
       "IncomeRatio             int64\n",
       "pctChildrenInPoverty    int64\n",
       "AvgDailyPM2.5           int64\n",
       "dtype: object"
      ]
     },
     "execution_count": 29,
     "metadata": {},
     "output_type": "execute_result"
    }
   ],
   "source": [
    "Data2SubsetDiscr.dtypes"
   ]
  },
  {
   "cell_type": "code",
   "execution_count": 30,
   "metadata": {},
   "outputs": [],
   "source": [
    "\n",
    "# compute anomalousness of each of the first 500 data records\n",
    "\n",
    "\n",
    "exmp = Data2SubsetDiscr.apply(lambda x: LL(x,model),axis=1)"
   ]
  },
  {
   "cell_type": "code",
   "execution_count": 31,
   "metadata": {},
   "outputs": [
    {
     "name": "stdout",
     "output_type": "stream",
     "text": [
      "1444   -16.608495\n",
      "182    -14.827149\n",
      "1577   -14.686742\n",
      "1007   -14.457849\n",
      "248    -13.671439\n",
      "dtype: float64\n"
     ]
    }
   ],
   "source": [
    "# 5 most anomalous counties\n",
    "exmp2=pd.Series(exmp)\n",
    "Top5 = exmp2.sort_values().head(5)\n",
    "print exmp2.sort_values().head(5)\n"
   ]
  },
  {
   "cell_type": "code",
   "execution_count": 32,
   "metadata": {},
   "outputs": [
    {
     "data": {
      "text/plain": [
       "Int64Index([1444, 182, 1577, 1007, 248], dtype='int64')"
      ]
     },
     "execution_count": 32,
     "metadata": {},
     "output_type": "execute_result"
    }
   ],
   "source": [
    "Top5.index"
   ]
  },
  {
   "cell_type": "code",
   "execution_count": 33,
   "metadata": {},
   "outputs": [
    {
     "name": "stdout",
     "output_type": "stream",
     "text": [
      "The five most anomalous counties are:\n",
      "New York, New York\n",
      "San Francisco, California\n",
      "Rolette, North Dakota\n",
      "Suffolk, Massachusetts\n",
      "District of Columbia, District of Columbia\n"
     ]
    }
   ],
   "source": [
    "print(\"The five most anomalous counties are:\")\n",
    "for i in Top5.index:\n",
    "    print Data2[u'County'][i]"
   ]
  },
  {
   "cell_type": "markdown",
   "metadata": {},
   "source": [
    "### Part 2: \n",
    "Cluster based anomaly detection. Use all numeric features for this part, and do not discretize.\n",
    "\n",
    "(a) Clustering with k-means. Please use k=3 clusters. Compute each record's distance to the nearest cluster center and report the five counties which have the longest distances. (10 pts)\n",
    "\n",
    "(b) Cluster with Gaussian Mixture. Please repeat (2)a but use log-likelihood for each record (rather than distance) as the measure of anomalousness. (10 pts)\n",
    "\n",
    "Part 3: Choose one more anomaly detection model you prefer and report the top 5 most anomalous counties by the model you chose. (10 pts)\n",
    "\n",
    "Part 4: Compare and contrast the results from the different models. Were there some counties that were found to be anomalous in some models and not in others? Please provide some intuitions on why each county was found to be anomalous. (5 pts)"
   ]
  },
  {
   "cell_type": "code",
   "execution_count": 34,
   "metadata": {},
   "outputs": [],
   "source": [
    "fullData = Data2.copy()"
   ]
  },
  {
   "cell_type": "code",
   "execution_count": 35,
   "metadata": {},
   "outputs": [
    {
     "data": {
      "text/plain": [
       "Index([u'County', u''\\% Reporting Fair/Poor Health'',\n",
       "       u''Physically Unhealthy Days Per Month'',\n",
       "       u''Mentally Unhealthy Days Per Month'', u''\\% Low birth weight births'',\n",
       "       u''\\% Smokers'', u''\\% Obese'', u''Food Environment Index'',\n",
       "       u''\\% Physically Inactive'', u''\\% With Access To Exercise'',\n",
       "       u''\\% Excessive Drinking'', u''\\% Alcohol-Impaired Driving Deaths'',\n",
       "       u''Chlamydia Rate'', u''Teen Birth Rate'', u''\\% Uninsured'',\n",
       "       u''Preventable Hosp. Rate'', u''\\% Dibetics receiving HbA1c'',\n",
       "       u''\\% Mammography'', u''Graduation Rate'', u''\\% Some College'',\n",
       "       u''\\% Unemployed'', u''\\% Children in Poverty'',\n",
       "       u''80/20 Income Ratio'', u''\\% Single-Parent Households'',\n",
       "       u''Association Rate'', u''Violent Crime Rate'', u''Injury Death Rate'',\n",
       "       u''Average Daily PM2.5'', u''\\% Severe Housing Problems'',\n",
       "       u''\\% Drive Alone'', u''\\% Long Commute - Drives Alone''],\n",
       "      dtype='object')"
      ]
     },
     "execution_count": 35,
     "metadata": {},
     "output_type": "execute_result"
    }
   ],
   "source": [
    "fullData.columns"
   ]
  },
  {
   "cell_type": "code",
   "execution_count": 36,
   "metadata": {},
   "outputs": [],
   "source": [
    "#Rename columns headings\n",
    "renameColumns = {\"'\\% Reporting Fair/Poor Health'\":'FairPoorHealth',\n",
    "                 \"'Physically Unhealthy Days Per Month'\":'physicallyUnhealthDaysPmonth',\n",
    "                 \"'Mentally Unhealthy Days Per Month'\":'mentallyUnhealthyDaysPmonth', \n",
    "                 \"'\\% Low birth weight births'\":'pctLowBirthWeights',\n",
    "                 \"'\\% Smokers'\":'pctSmokers', \n",
    "                 \"'\\% Obese'\":'pctObese', \n",
    "                 \"'Food Environment Index'\":'foodEnvionmentIndex',\n",
    "                 \"'\\% Physically Inactive'\":'pctPhysicallyInactive', \n",
    "                 \"'\\% With Access To Exercise'\":'pctAccessExercise',\n",
    "                 \"'\\% Excessive Drinking'\":'pctExcessDrinking', \n",
    "                 \"'\\% Alcohol-Impaired Driving Deaths'\":'pctAlcoholDrivingDeaths',\n",
    "                 \"'Chlamydia Rate'\":'chlamydiaRate', \n",
    "                 \"'Teen Birth Rate'\":'teenBirthRate', \n",
    "                 \"'\\% Uninsured'\":'pctUninsured',\n",
    "                 \"'Preventable Hosp. Rate'\":'preventHospRate', \n",
    "                 \"'\\% Dibetics receiving HbA1c'\":'pctDiabeticsRecTreat',\n",
    "                 \"'\\% Mammography'\":'pctMammography', \n",
    "                 \"'Graduation Rate'\":'pctGraduationRate', \n",
    "                 \"'\\% Some College'\":'pctSomeCollege',\n",
    "                 \"'\\% Unemployed'\":'pctUnemployed', \n",
    "                 \"'\\% Children in Poverty'\": 'pctChildrenInPoverty',\n",
    "                 \"'80/20 Income Ratio'\":'IncomeRatio',\n",
    "                 \"'\\% Single-Parent Households'\":'pctSingleParentHH',\n",
    "                 \"'Association Rate'\":'AssociationRate', \n",
    "                 \"'Violent Crime Rate'\":'ViolentCrimeRate',\n",
    "                 \"'Injury Death Rate'\":'injuryDeathRate',\n",
    "                 \"'Average Daily PM2.5'\":'AvgDailyPM2.5',\n",
    "                 \"'\\% Severe Housing Problems'\":'pctSeverHousingProbs',\n",
    "                 \"'\\% Drive Alone'\":'pctDriveAlone', \n",
    "                 \"'\\% Long Commute - Drives Alone'\":'pctLongCommute'\n",
    "                 }"
   ]
  },
  {
   "cell_type": "code",
   "execution_count": 37,
   "metadata": {},
   "outputs": [],
   "source": [
    "fullData.rename(columns = renameColumns, inplace = True)"
   ]
  },
  {
   "cell_type": "code",
   "execution_count": 38,
   "metadata": {},
   "outputs": [
    {
     "data": {
      "text/html": [
       "<div>\n",
       "<table border=\"1\" class=\"dataframe\">\n",
       "  <thead>\n",
       "    <tr style=\"text-align: right;\">\n",
       "      <th></th>\n",
       "      <th>County</th>\n",
       "      <th>FairPoorHealth</th>\n",
       "      <th>physicallyUnhealthDaysPmonth</th>\n",
       "      <th>mentallyUnhealthyDaysPmonth</th>\n",
       "      <th>pctLowBirthWeights</th>\n",
       "      <th>pctSmokers</th>\n",
       "      <th>pctObese</th>\n",
       "      <th>foodEnvionmentIndex</th>\n",
       "      <th>pctPhysicallyInactive</th>\n",
       "      <th>pctAccessExercise</th>\n",
       "      <th>...</th>\n",
       "      <th>pctChildrenInPoverty</th>\n",
       "      <th>IncomeRatio</th>\n",
       "      <th>pctSingleParentHH</th>\n",
       "      <th>AssociationRate</th>\n",
       "      <th>ViolentCrimeRate</th>\n",
       "      <th>injuryDeathRate</th>\n",
       "      <th>AvgDailyPM2.5</th>\n",
       "      <th>pctSeverHousingProbs</th>\n",
       "      <th>pctDriveAlone</th>\n",
       "      <th>pctLongCommute</th>\n",
       "    </tr>\n",
       "  </thead>\n",
       "  <tbody>\n",
       "    <tr>\n",
       "      <th>0</th>\n",
       "      <td>Autauga, Alabama</td>\n",
       "      <td>19.0</td>\n",
       "      <td>4.4</td>\n",
       "      <td>4.3</td>\n",
       "      <td>9.0</td>\n",
       "      <td>19.0</td>\n",
       "      <td>31</td>\n",
       "      <td>7.1</td>\n",
       "      <td>29</td>\n",
       "      <td>71.0</td>\n",
       "      <td>...</td>\n",
       "      <td>18.0</td>\n",
       "      <td>4.3</td>\n",
       "      <td>27.0</td>\n",
       "      <td>13.8</td>\n",
       "      <td>254.0</td>\n",
       "      <td>76.0</td>\n",
       "      <td>12.9</td>\n",
       "      <td>14</td>\n",
       "      <td>89.0</td>\n",
       "      <td>42.0</td>\n",
       "    </tr>\n",
       "    <tr>\n",
       "      <th>1</th>\n",
       "      <td>Baldwin, Alabama</td>\n",
       "      <td>16.0</td>\n",
       "      <td>4.1</td>\n",
       "      <td>4.2</td>\n",
       "      <td>9.0</td>\n",
       "      <td>19.0</td>\n",
       "      <td>27</td>\n",
       "      <td>7.6</td>\n",
       "      <td>25</td>\n",
       "      <td>72.0</td>\n",
       "      <td>...</td>\n",
       "      <td>20.0</td>\n",
       "      <td>4.5</td>\n",
       "      <td>28.0</td>\n",
       "      <td>12.0</td>\n",
       "      <td>221.0</td>\n",
       "      <td>70.0</td>\n",
       "      <td>13.1</td>\n",
       "      <td>15</td>\n",
       "      <td>84.0</td>\n",
       "      <td>37.0</td>\n",
       "    </tr>\n",
       "    <tr>\n",
       "      <th>2</th>\n",
       "      <td>Barbour, Alabama</td>\n",
       "      <td>26.0</td>\n",
       "      <td>4.9</td>\n",
       "      <td>4.7</td>\n",
       "      <td>12.0</td>\n",
       "      <td>21.0</td>\n",
       "      <td>41</td>\n",
       "      <td>5.1</td>\n",
       "      <td>33</td>\n",
       "      <td>45.0</td>\n",
       "      <td>...</td>\n",
       "      <td>38.0</td>\n",
       "      <td>5.3</td>\n",
       "      <td>54.0</td>\n",
       "      <td>8.1</td>\n",
       "      <td>147.0</td>\n",
       "      <td>64.0</td>\n",
       "      <td>12.6</td>\n",
       "      <td>18</td>\n",
       "      <td>84.0</td>\n",
       "      <td>35.0</td>\n",
       "    </tr>\n",
       "    <tr>\n",
       "      <th>3</th>\n",
       "      <td>Bibb, Alabama</td>\n",
       "      <td>22.0</td>\n",
       "      <td>4.8</td>\n",
       "      <td>4.6</td>\n",
       "      <td>12.0</td>\n",
       "      <td>21.0</td>\n",
       "      <td>40</td>\n",
       "      <td>7.4</td>\n",
       "      <td>33</td>\n",
       "      <td>33.0</td>\n",
       "      <td>...</td>\n",
       "      <td>27.0</td>\n",
       "      <td>4.3</td>\n",
       "      <td>32.0</td>\n",
       "      <td>9.8</td>\n",
       "      <td>236.0</td>\n",
       "      <td>75.0</td>\n",
       "      <td>12.9</td>\n",
       "      <td>13</td>\n",
       "      <td>84.0</td>\n",
       "      <td>46.0</td>\n",
       "    </tr>\n",
       "    <tr>\n",
       "      <th>4</th>\n",
       "      <td>Blount, Alabama</td>\n",
       "      <td>21.0</td>\n",
       "      <td>4.6</td>\n",
       "      <td>4.5</td>\n",
       "      <td>7.0</td>\n",
       "      <td>19.0</td>\n",
       "      <td>32</td>\n",
       "      <td>8.3</td>\n",
       "      <td>29</td>\n",
       "      <td>26.0</td>\n",
       "      <td>...</td>\n",
       "      <td>24.0</td>\n",
       "      <td>4.1</td>\n",
       "      <td>28.0</td>\n",
       "      <td>8.5</td>\n",
       "      <td>219.0</td>\n",
       "      <td>89.0</td>\n",
       "      <td>12.7</td>\n",
       "      <td>12</td>\n",
       "      <td>85.0</td>\n",
       "      <td>59.0</td>\n",
       "    </tr>\n",
       "  </tbody>\n",
       "</table>\n",
       "<p>5 rows × 31 columns</p>\n",
       "</div>"
      ],
      "text/plain": [
       "             County  FairPoorHealth  physicallyUnhealthDaysPmonth  \\\n",
       "0  Autauga, Alabama            19.0                           4.4   \n",
       "1  Baldwin, Alabama            16.0                           4.1   \n",
       "2  Barbour, Alabama            26.0                           4.9   \n",
       "3     Bibb, Alabama            22.0                           4.8   \n",
       "4   Blount, Alabama            21.0                           4.6   \n",
       "\n",
       "   mentallyUnhealthyDaysPmonth  pctLowBirthWeights  pctSmokers  pctObese  \\\n",
       "0                          4.3                 9.0        19.0        31   \n",
       "1                          4.2                 9.0        19.0        27   \n",
       "2                          4.7                12.0        21.0        41   \n",
       "3                          4.6                12.0        21.0        40   \n",
       "4                          4.5                 7.0        19.0        32   \n",
       "\n",
       "   foodEnvionmentIndex  pctPhysicallyInactive  pctAccessExercise  \\\n",
       "0                  7.1                     29               71.0   \n",
       "1                  7.6                     25               72.0   \n",
       "2                  5.1                     33               45.0   \n",
       "3                  7.4                     33               33.0   \n",
       "4                  8.3                     29               26.0   \n",
       "\n",
       "        ...        pctChildrenInPoverty  IncomeRatio  pctSingleParentHH  \\\n",
       "0       ...                        18.0          4.3               27.0   \n",
       "1       ...                        20.0          4.5               28.0   \n",
       "2       ...                        38.0          5.3               54.0   \n",
       "3       ...                        27.0          4.3               32.0   \n",
       "4       ...                        24.0          4.1               28.0   \n",
       "\n",
       "   AssociationRate  ViolentCrimeRate  injuryDeathRate  AvgDailyPM2.5  \\\n",
       "0             13.8             254.0             76.0           12.9   \n",
       "1             12.0             221.0             70.0           13.1   \n",
       "2              8.1             147.0             64.0           12.6   \n",
       "3              9.8             236.0             75.0           12.9   \n",
       "4              8.5             219.0             89.0           12.7   \n",
       "\n",
       "   pctSeverHousingProbs  pctDriveAlone  pctLongCommute  \n",
       "0                    14           89.0            42.0  \n",
       "1                    15           84.0            37.0  \n",
       "2                    18           84.0            35.0  \n",
       "3                    13           84.0            46.0  \n",
       "4                    12           85.0            59.0  \n",
       "\n",
       "[5 rows x 31 columns]"
      ]
     },
     "execution_count": 38,
     "metadata": {},
     "output_type": "execute_result"
    }
   ],
   "source": [
    "fullData.head()"
   ]
  },
  {
   "cell_type": "code",
   "execution_count": 39,
   "metadata": {},
   "outputs": [
    {
     "data": {
      "text/plain": [
       "Index([u'County', u'FairPoorHealth', u'physicallyUnhealthDaysPmonth',\n",
       "       u'mentallyUnhealthyDaysPmonth', u'pctLowBirthWeights', u'pctSmokers',\n",
       "       u'pctObese', u'foodEnvionmentIndex', u'pctPhysicallyInactive',\n",
       "       u'pctAccessExercise', u'pctExcessDrinking', u'pctAlcoholDrivingDeaths',\n",
       "       u'chlamydiaRate', u'teenBirthRate', u'pctUninsured', u'preventHospRate',\n",
       "       u'pctDiabeticsRecTreat', u'pctMammography', u'pctGraduationRate',\n",
       "       u'pctSomeCollege', u'pctUnemployed', u'pctChildrenInPoverty',\n",
       "       u'IncomeRatio', u'pctSingleParentHH', u'AssociationRate',\n",
       "       u'ViolentCrimeRate', u'injuryDeathRate', u'AvgDailyPM2.5',\n",
       "       u'pctSeverHousingProbs', u'pctDriveAlone', u'pctLongCommute'],\n",
       "      dtype='object')"
      ]
     },
     "execution_count": 39,
     "metadata": {},
     "output_type": "execute_result"
    }
   ],
   "source": [
    "fullData.columns"
   ]
  },
  {
   "cell_type": "code",
   "execution_count": 40,
   "metadata": {},
   "outputs": [],
   "source": [
    "X = fullData.iloc[:,1:]\n"
   ]
  },
  {
   "cell_type": "markdown",
   "metadata": {},
   "source": [
    "(a) Clustering with k-means. Please use k=3 clusters. Compute each record's distance to the nearest cluster center and report the five counties which have the longest distances. (10 pts)\n"
   ]
  },
  {
   "cell_type": "code",
   "execution_count": 41,
   "metadata": {},
   "outputs": [
    {
     "data": {
      "text/html": [
       "<div>\n",
       "<table border=\"1\" class=\"dataframe\">\n",
       "  <thead>\n",
       "    <tr style=\"text-align: right;\">\n",
       "      <th></th>\n",
       "      <th>0</th>\n",
       "      <th>1</th>\n",
       "      <th>2</th>\n",
       "    </tr>\n",
       "  </thead>\n",
       "  <tbody>\n",
       "    <tr>\n",
       "      <th>0</th>\n",
       "      <td>215.546368</td>\n",
       "      <td>554.609617</td>\n",
       "      <td>101.895485</td>\n",
       "    </tr>\n",
       "    <tr>\n",
       "      <th>1</th>\n",
       "      <td>108.370262</td>\n",
       "      <td>655.932344</td>\n",
       "      <td>186.335226</td>\n",
       "    </tr>\n",
       "    <tr>\n",
       "      <th>2</th>\n",
       "      <td>410.503731</td>\n",
       "      <td>530.643663</td>\n",
       "      <td>282.291939</td>\n",
       "    </tr>\n",
       "    <tr>\n",
       "      <th>3</th>\n",
       "      <td>168.209200</td>\n",
       "      <td>602.378878</td>\n",
       "      <td>141.457457</td>\n",
       "    </tr>\n",
       "    <tr>\n",
       "      <th>4</th>\n",
       "      <td>105.075152</td>\n",
       "      <td>777.335076</td>\n",
       "      <td>315.009861</td>\n",
       "    </tr>\n",
       "  </tbody>\n",
       "</table>\n",
       "</div>"
      ],
      "text/plain": [
       "            0           1           2\n",
       "0  215.546368  554.609617  101.895485\n",
       "1  108.370262  655.932344  186.335226\n",
       "2  410.503731  530.643663  282.291939\n",
       "3  168.209200  602.378878  141.457457\n",
       "4  105.075152  777.335076  315.009861"
      ]
     },
     "execution_count": 41,
     "metadata": {},
     "output_type": "execute_result"
    }
   ],
   "source": [
    "\n",
    "KM=KMeans(n_clusters=3,random_state=999)\n",
    "scor=KM.fit_predict(X)\n",
    "\n",
    "# distance to each cluster center\n",
    "res=pd.DataFrame(KM.transform(X))\n",
    "res.head()"
   ]
  },
  {
   "cell_type": "code",
   "execution_count": 42,
   "metadata": {},
   "outputs": [
    {
     "data": {
      "text/html": [
       "<div>\n",
       "<table border=\"1\" class=\"dataframe\">\n",
       "  <thead>\n",
       "    <tr style=\"text-align: right;\">\n",
       "      <th></th>\n",
       "      <th>0</th>\n",
       "      <th>1</th>\n",
       "      <th>2</th>\n",
       "      <th>cluster</th>\n",
       "      <th>score</th>\n",
       "    </tr>\n",
       "  </thead>\n",
       "  <tbody>\n",
       "    <tr>\n",
       "      <th>1890</th>\n",
       "      <td>2443.716031</td>\n",
       "      <td>1970.018443</td>\n",
       "      <td>2251.260167</td>\n",
       "      <td>1</td>\n",
       "      <td>1970.018443</td>\n",
       "    </tr>\n",
       "    <tr>\n",
       "      <th>1294</th>\n",
       "      <td>2036.147297</td>\n",
       "      <td>1332.735955</td>\n",
       "      <td>1759.249198</td>\n",
       "      <td>1</td>\n",
       "      <td>1332.735955</td>\n",
       "    </tr>\n",
       "    <tr>\n",
       "      <th>96</th>\n",
       "      <td>1917.732820</td>\n",
       "      <td>1208.900834</td>\n",
       "      <td>1639.063836</td>\n",
       "      <td>1</td>\n",
       "      <td>1208.900834</td>\n",
       "    </tr>\n",
       "    <tr>\n",
       "      <th>2304</th>\n",
       "      <td>1644.876605</td>\n",
       "      <td>1017.910163</td>\n",
       "      <td>1394.632068</td>\n",
       "      <td>1</td>\n",
       "      <td>1017.910163</td>\n",
       "    </tr>\n",
       "    <tr>\n",
       "      <th>995</th>\n",
       "      <td>1651.954082</td>\n",
       "      <td>918.374430</td>\n",
       "      <td>1366.737248</td>\n",
       "      <td>1</td>\n",
       "      <td>918.374430</td>\n",
       "    </tr>\n",
       "  </tbody>\n",
       "</table>\n",
       "</div>"
      ],
      "text/plain": [
       "                0            1            2  cluster        score\n",
       "1890  2443.716031  1970.018443  2251.260167        1  1970.018443\n",
       "1294  2036.147297  1332.735955  1759.249198        1  1332.735955\n",
       "96    1917.732820  1208.900834  1639.063836        1  1208.900834\n",
       "2304  1644.876605  1017.910163  1394.632068        1  1017.910163\n",
       "995   1651.954082   918.374430  1366.737248        1   918.374430"
      ]
     },
     "execution_count": 42,
     "metadata": {},
     "output_type": "execute_result"
    }
   ],
   "source": [
    "# add cluster and distance information for each data record\n",
    "res=pd.DataFrame(KM.transform(X))\n",
    "res=pd.concat((res,pd.DataFrame(KM.fit_predict(X))),axis=1)\n",
    "res.columns=list(range(3))+[\"cluster\"]\n",
    "res.loc[:,\"score\"]=res.apply(lambda x: x[int(x[\"cluster\"])],axis=1)\n",
    "\n",
    "# find data records farthest from cluster centers\n",
    "res.sort_values(\"score\",ascending=False)[:5]"
   ]
  },
  {
   "cell_type": "code",
   "execution_count": 43,
   "metadata": {},
   "outputs": [
    {
     "name": "stdout",
     "output_type": "stream",
     "text": [
      "0    1426\n",
      "2     814\n",
      "1     246\n",
      "Name: cluster, dtype: int64\n"
     ]
    }
   ],
   "source": [
    "# check for tiny clusters\n",
    "print res['cluster'].value_counts()"
   ]
  },
  {
   "cell_type": "code",
   "execution_count": 44,
   "metadata": {},
   "outputs": [],
   "source": [
    "furthest5_KM = res.sort_values(\"score\",ascending=False)[:5]"
   ]
  },
  {
   "cell_type": "code",
   "execution_count": 45,
   "metadata": {
    "scrolled": true
   },
   "outputs": [
    {
     "name": "stdout",
     "output_type": "stream",
     "text": [
      "The furthest five counties (to a cluster center with K-means) are:\n",
      "Shannon, South Dakota\n",
      "St. Louis City, Missouri\n",
      "Crittenden, Arkansas\n",
      "Petersburg City, Virginia\n",
      "Baltimore City, Maryland\n"
     ]
    }
   ],
   "source": [
    "print(\"The furthest five counties (to a cluster center with K-means) are:\")\n",
    "for i in furthest5_KM.index:\n",
    "    print Data2[u'County'][i]"
   ]
  },
  {
   "cell_type": "markdown",
   "metadata": {},
   "source": [
    "\n",
    "(b) Cluster with Gaussian Mixture. Please repeat (2)a but use log-likelihood for each record (rather than distance) as the measure of anomalousness. (10 pts)\n"
   ]
  },
  {
   "cell_type": "code",
   "execution_count": 46,
   "metadata": {},
   "outputs": [
    {
     "data": {
      "text/plain": [
       "GaussianMixture(covariance_type='full', init_params='kmeans', max_iter=100,\n",
       "        means_init=None, n_components=3, n_init=1, precisions_init=None,\n",
       "        random_state=999, reg_covar=1e-06, tol=0.001, verbose=0,\n",
       "        verbose_interval=10, warm_start=False, weights_init=None)"
      ]
     },
     "execution_count": 46,
     "metadata": {},
     "output_type": "execute_result"
    }
   ],
   "source": [
    "GM=GaussianMixture(n_components=3,random_state=999)\n",
    "GM.fit(X)"
   ]
  },
  {
   "cell_type": "code",
   "execution_count": 47,
   "metadata": {},
   "outputs": [],
   "source": [
    "furthest5_GM = pd.Series(GM.score_samples(X)).sort_values().head()"
   ]
  },
  {
   "cell_type": "code",
   "execution_count": 48,
   "metadata": {},
   "outputs": [
    {
     "name": "stdout",
     "output_type": "stream",
     "text": [
      "The furthest five counties (based on log-likelihood with Gaussian Mixture) are:\n",
      "Shannon, South Dakota\n",
      "Apache, Arizona\n",
      "New York, New York\n",
      "Willacy, Texas\n",
      "Rolette, North Dakota\n"
     ]
    }
   ],
   "source": [
    "print(\"The furthest five counties (based on log-likelihood with Gaussian Mixture) are:\")\n",
    "for i in furthest5_GM.index:\n",
    "    print Data2[u'County'][i]"
   ]
  },
  {
   "cell_type": "markdown",
   "metadata": {},
   "source": [
    "\n",
    "\n",
    "Part 3: Choose one more anomaly detection model you prefer and report the top 5 most anomalous counties by the model you chose. (10 pts)\n",
    "\n",
    "\n",
    "**Use Local Outlier Factor**"
   ]
  },
  {
   "cell_type": "code",
   "execution_count": 49,
   "metadata": {},
   "outputs": [
    {
     "data": {
      "text/plain": [
       "LocalOutlierFactor(algorithm='auto', contamination=0.1, leaf_size=30,\n",
       "          metric='minkowski', metric_params=None, n_jobs=1, n_neighbors=20,\n",
       "          p=2)"
      ]
     },
     "execution_count": 49,
     "metadata": {},
     "output_type": "execute_result"
    }
   ],
   "source": [
    "# fit the model\n",
    "clf = LocalOutlierFactor(n_neighbors=20)\n",
    "clf.fit(X)"
   ]
  },
  {
   "cell_type": "code",
   "execution_count": 50,
   "metadata": {},
   "outputs": [],
   "source": [
    "furthest5_LOF = pd.Series(clf.negative_outlier_factor_).sort_values().head()"
   ]
  },
  {
   "cell_type": "code",
   "execution_count": 51,
   "metadata": {},
   "outputs": [
    {
     "data": {
      "text/plain": [
       "1890   -4.855389\n",
       "1294   -2.600860\n",
       "96     -2.378684\n",
       "2378   -2.170029\n",
       "2304   -2.145245\n",
       "dtype: float64"
      ]
     },
     "execution_count": 51,
     "metadata": {},
     "output_type": "execute_result"
    }
   ],
   "source": [
    "furthest5_LOF"
   ]
  },
  {
   "cell_type": "code",
   "execution_count": 52,
   "metadata": {},
   "outputs": [
    {
     "name": "stdout",
     "output_type": "stream",
     "text": [
      "The furthest five counties (based on negative outlier factor with Local Outlier Factor) are:\n",
      "Shannon, South Dakota\n",
      "St. Louis City, Missouri\n",
      "Crittenden, Arkansas\n",
      "Nicholas, West Virginia\n",
      "Petersburg City, Virginia\n"
     ]
    }
   ],
   "source": [
    "print(\"The furthest five counties (based on negative outlier factor with Local Outlier Factor) are:\")\n",
    "for i in furthest5_LOF.index:\n",
    "    print Data2[u'County'][i]"
   ]
  },
  {
   "cell_type": "markdown",
   "metadata": {},
   "source": [
    "\n",
    "\n",
    "Part 4: Compare and contrast the results from the different models. Were there some counties that were found to be anomalous in some models and not in others? Please provide some intuitions on why each county was found to be anomalous. (5 pts)"
   ]
  },
  {
   "cell_type": "markdown",
   "metadata": {},
   "source": [
    "______________________________\n",
    "\n",
    "For each of K-means, Gaussian Mixture and Local outlier factor models; Shannon, South Dakota is found the be the most anomalous county. The results for K-means and Local Outlier Factor are very similar; both returning St. Louis City, Missouri; Crittenden, Arkansas and Petersburg City, Virginia also. The counties they differ on are Baltimore City, Maryland (K-means) and Nicholas, West Virginia (Local outlier factor).\n",
    "\n",
    "The Gaussian Mixture clustering model provided four (4) different counties to the other two methods Apache, Arizona; New York, New York; Willacy, Texas and Rolette, North Dakota.\n",
    "\n",
    "Let's inspect which variables are likely to have the highest influence in the clustering model by descriving the dataset."
   ]
  },
  {
   "cell_type": "code",
   "execution_count": 53,
   "metadata": {},
   "outputs": [
    {
     "data": {
      "text/html": [
       "<div>\n",
       "<table border=\"1\" class=\"dataframe\">\n",
       "  <thead>\n",
       "    <tr style=\"text-align: right;\">\n",
       "      <th></th>\n",
       "      <th>FairPoorHealth</th>\n",
       "      <th>physicallyUnhealthDaysPmonth</th>\n",
       "      <th>mentallyUnhealthyDaysPmonth</th>\n",
       "      <th>pctLowBirthWeights</th>\n",
       "      <th>pctSmokers</th>\n",
       "      <th>pctObese</th>\n",
       "      <th>foodEnvionmentIndex</th>\n",
       "      <th>pctPhysicallyInactive</th>\n",
       "      <th>pctAccessExercise</th>\n",
       "      <th>pctExcessDrinking</th>\n",
       "    </tr>\n",
       "  </thead>\n",
       "  <tbody>\n",
       "    <tr>\n",
       "      <th>count</th>\n",
       "      <td>2486.000000</td>\n",
       "      <td>2486.000000</td>\n",
       "      <td>2486.000000</td>\n",
       "      <td>2486.000000</td>\n",
       "      <td>2486.000000</td>\n",
       "      <td>2486.000000</td>\n",
       "      <td>2486.000000</td>\n",
       "      <td>2486.000000</td>\n",
       "      <td>2486.000000</td>\n",
       "      <td>2486.000000</td>\n",
       "    </tr>\n",
       "    <tr>\n",
       "      <th>mean</th>\n",
       "      <td>17.203942</td>\n",
       "      <td>3.865809</td>\n",
       "      <td>3.753097</td>\n",
       "      <td>8.222446</td>\n",
       "      <td>18.569992</td>\n",
       "      <td>31.022928</td>\n",
       "      <td>7.093242</td>\n",
       "      <td>27.162108</td>\n",
       "      <td>63.002011</td>\n",
       "      <td>16.604988</td>\n",
       "    </tr>\n",
       "    <tr>\n",
       "      <th>std</th>\n",
       "      <td>4.856641</td>\n",
       "      <td>0.715394</td>\n",
       "      <td>0.581101</td>\n",
       "      <td>1.971016</td>\n",
       "      <td>3.646631</td>\n",
       "      <td>4.524278</td>\n",
       "      <td>1.069392</td>\n",
       "      <td>5.554257</td>\n",
       "      <td>22.020285</td>\n",
       "      <td>3.420385</td>\n",
       "    </tr>\n",
       "    <tr>\n",
       "      <th>min</th>\n",
       "      <td>7.000000</td>\n",
       "      <td>2.200000</td>\n",
       "      <td>2.100000</td>\n",
       "      <td>3.000000</td>\n",
       "      <td>7.000000</td>\n",
       "      <td>11.000000</td>\n",
       "      <td>0.500000</td>\n",
       "      <td>9.000000</td>\n",
       "      <td>0.000000</td>\n",
       "      <td>9.000000</td>\n",
       "    </tr>\n",
       "    <tr>\n",
       "      <th>25%</th>\n",
       "      <td>13.000000</td>\n",
       "      <td>3.400000</td>\n",
       "      <td>3.300000</td>\n",
       "      <td>7.000000</td>\n",
       "      <td>16.000000</td>\n",
       "      <td>29.000000</td>\n",
       "      <td>6.500000</td>\n",
       "      <td>24.000000</td>\n",
       "      <td>48.000000</td>\n",
       "      <td>14.000000</td>\n",
       "    </tr>\n",
       "    <tr>\n",
       "      <th>50%</th>\n",
       "      <td>16.000000</td>\n",
       "      <td>3.800000</td>\n",
       "      <td>3.800000</td>\n",
       "      <td>8.000000</td>\n",
       "      <td>18.000000</td>\n",
       "      <td>31.000000</td>\n",
       "      <td>7.200000</td>\n",
       "      <td>27.000000</td>\n",
       "      <td>65.000000</td>\n",
       "      <td>17.000000</td>\n",
       "    </tr>\n",
       "    <tr>\n",
       "      <th>75%</th>\n",
       "      <td>20.000000</td>\n",
       "      <td>4.400000</td>\n",
       "      <td>4.100000</td>\n",
       "      <td>9.000000</td>\n",
       "      <td>21.000000</td>\n",
       "      <td>34.000000</td>\n",
       "      <td>7.800000</td>\n",
       "      <td>31.000000</td>\n",
       "      <td>80.000000</td>\n",
       "      <td>19.000000</td>\n",
       "    </tr>\n",
       "    <tr>\n",
       "      <th>max</th>\n",
       "      <td>42.000000</td>\n",
       "      <td>6.500000</td>\n",
       "      <td>5.600000</td>\n",
       "      <td>19.000000</td>\n",
       "      <td>41.000000</td>\n",
       "      <td>46.000000</td>\n",
       "      <td>10.000000</td>\n",
       "      <td>42.000000</td>\n",
       "      <td>100.000000</td>\n",
       "      <td>27.000000</td>\n",
       "    </tr>\n",
       "  </tbody>\n",
       "</table>\n",
       "</div>"
      ],
      "text/plain": [
       "       FairPoorHealth  physicallyUnhealthDaysPmonth  \\\n",
       "count     2486.000000                   2486.000000   \n",
       "mean        17.203942                      3.865809   \n",
       "std          4.856641                      0.715394   \n",
       "min          7.000000                      2.200000   \n",
       "25%         13.000000                      3.400000   \n",
       "50%         16.000000                      3.800000   \n",
       "75%         20.000000                      4.400000   \n",
       "max         42.000000                      6.500000   \n",
       "\n",
       "       mentallyUnhealthyDaysPmonth  pctLowBirthWeights   pctSmokers  \\\n",
       "count                  2486.000000         2486.000000  2486.000000   \n",
       "mean                      3.753097            8.222446    18.569992   \n",
       "std                       0.581101            1.971016     3.646631   \n",
       "min                       2.100000            3.000000     7.000000   \n",
       "25%                       3.300000            7.000000    16.000000   \n",
       "50%                       3.800000            8.000000    18.000000   \n",
       "75%                       4.100000            9.000000    21.000000   \n",
       "max                       5.600000           19.000000    41.000000   \n",
       "\n",
       "          pctObese  foodEnvionmentIndex  pctPhysicallyInactive  \\\n",
       "count  2486.000000          2486.000000            2486.000000   \n",
       "mean     31.022928             7.093242              27.162108   \n",
       "std       4.524278             1.069392               5.554257   \n",
       "min      11.000000             0.500000               9.000000   \n",
       "25%      29.000000             6.500000              24.000000   \n",
       "50%      31.000000             7.200000              27.000000   \n",
       "75%      34.000000             7.800000              31.000000   \n",
       "max      46.000000            10.000000              42.000000   \n",
       "\n",
       "       pctAccessExercise  pctExcessDrinking  \n",
       "count        2486.000000        2486.000000  \n",
       "mean           63.002011          16.604988  \n",
       "std            22.020285           3.420385  \n",
       "min             0.000000           9.000000  \n",
       "25%            48.000000          14.000000  \n",
       "50%            65.000000          17.000000  \n",
       "75%            80.000000          19.000000  \n",
       "max           100.000000          27.000000  "
      ]
     },
     "execution_count": 53,
     "metadata": {},
     "output_type": "execute_result"
    }
   ],
   "source": [
    "fullData.loc[:,:'pctExcessDrinking'].describe()"
   ]
  },
  {
   "cell_type": "code",
   "execution_count": 54,
   "metadata": {},
   "outputs": [
    {
     "data": {
      "text/html": [
       "<div>\n",
       "<table border=\"1\" class=\"dataframe\">\n",
       "  <thead>\n",
       "    <tr style=\"text-align: right;\">\n",
       "      <th></th>\n",
       "      <th>pctExcessDrinking</th>\n",
       "      <th>pctAlcoholDrivingDeaths</th>\n",
       "      <th>chlamydiaRate</th>\n",
       "      <th>teenBirthRate</th>\n",
       "      <th>pctUninsured</th>\n",
       "      <th>preventHospRate</th>\n",
       "      <th>pctDiabeticsRecTreat</th>\n",
       "      <th>pctMammography</th>\n",
       "      <th>pctGraduationRate</th>\n",
       "      <th>pctSomeCollege</th>\n",
       "    </tr>\n",
       "  </thead>\n",
       "  <tbody>\n",
       "    <tr>\n",
       "      <th>count</th>\n",
       "      <td>2486.000000</td>\n",
       "      <td>2486.000000</td>\n",
       "      <td>2486.000000</td>\n",
       "      <td>2486.000000</td>\n",
       "      <td>2486.000000</td>\n",
       "      <td>2486.000000</td>\n",
       "      <td>2486.000000</td>\n",
       "      <td>2486.000000</td>\n",
       "      <td>2486.000000</td>\n",
       "      <td>2486.000000</td>\n",
       "    </tr>\n",
       "    <tr>\n",
       "      <th>mean</th>\n",
       "      <td>16.604988</td>\n",
       "      <td>30.886163</td>\n",
       "      <td>353.059533</td>\n",
       "      <td>41.796862</td>\n",
       "      <td>16.988335</td>\n",
       "      <td>62.772727</td>\n",
       "      <td>84.739743</td>\n",
       "      <td>60.789220</td>\n",
       "      <td>84.398230</td>\n",
       "      <td>56.113033</td>\n",
       "    </tr>\n",
       "    <tr>\n",
       "      <th>std</th>\n",
       "      <td>3.420385</td>\n",
       "      <td>12.739343</td>\n",
       "      <td>217.303794</td>\n",
       "      <td>18.499012</td>\n",
       "      <td>5.185286</td>\n",
       "      <td>24.107878</td>\n",
       "      <td>5.918107</td>\n",
       "      <td>7.798972</td>\n",
       "      <td>8.568666</td>\n",
       "      <td>11.311936</td>\n",
       "    </tr>\n",
       "    <tr>\n",
       "      <th>min</th>\n",
       "      <td>9.000000</td>\n",
       "      <td>0.000000</td>\n",
       "      <td>35.000000</td>\n",
       "      <td>4.000000</td>\n",
       "      <td>3.000000</td>\n",
       "      <td>12.000000</td>\n",
       "      <td>19.000000</td>\n",
       "      <td>26.000000</td>\n",
       "      <td>3.000000</td>\n",
       "      <td>20.200000</td>\n",
       "    </tr>\n",
       "    <tr>\n",
       "      <th>25%</th>\n",
       "      <td>14.000000</td>\n",
       "      <td>23.000000</td>\n",
       "      <td>208.000000</td>\n",
       "      <td>28.000000</td>\n",
       "      <td>13.000000</td>\n",
       "      <td>48.000000</td>\n",
       "      <td>83.000000</td>\n",
       "      <td>56.000000</td>\n",
       "      <td>80.000000</td>\n",
       "      <td>48.100000</td>\n",
       "    </tr>\n",
       "    <tr>\n",
       "      <th>50%</th>\n",
       "      <td>17.000000</td>\n",
       "      <td>30.000000</td>\n",
       "      <td>296.500000</td>\n",
       "      <td>40.000000</td>\n",
       "      <td>17.000000</td>\n",
       "      <td>59.000000</td>\n",
       "      <td>86.000000</td>\n",
       "      <td>61.000000</td>\n",
       "      <td>86.000000</td>\n",
       "      <td>56.000000</td>\n",
       "    </tr>\n",
       "    <tr>\n",
       "      <th>75%</th>\n",
       "      <td>19.000000</td>\n",
       "      <td>38.000000</td>\n",
       "      <td>439.000000</td>\n",
       "      <td>53.000000</td>\n",
       "      <td>20.000000</td>\n",
       "      <td>73.000000</td>\n",
       "      <td>88.000000</td>\n",
       "      <td>66.000000</td>\n",
       "      <td>91.000000</td>\n",
       "      <td>64.000000</td>\n",
       "    </tr>\n",
       "    <tr>\n",
       "      <th>max</th>\n",
       "      <td>27.000000</td>\n",
       "      <td>100.000000</td>\n",
       "      <td>2653.000000</td>\n",
       "      <td>124.000000</td>\n",
       "      <td>38.000000</td>\n",
       "      <td>231.000000</td>\n",
       "      <td>96.000000</td>\n",
       "      <td>84.000000</td>\n",
       "      <td>100.000000</td>\n",
       "      <td>88.300000</td>\n",
       "    </tr>\n",
       "  </tbody>\n",
       "</table>\n",
       "</div>"
      ],
      "text/plain": [
       "       pctExcessDrinking  pctAlcoholDrivingDeaths  chlamydiaRate  \\\n",
       "count        2486.000000              2486.000000    2486.000000   \n",
       "mean           16.604988                30.886163     353.059533   \n",
       "std             3.420385                12.739343     217.303794   \n",
       "min             9.000000                 0.000000      35.000000   \n",
       "25%            14.000000                23.000000     208.000000   \n",
       "50%            17.000000                30.000000     296.500000   \n",
       "75%            19.000000                38.000000     439.000000   \n",
       "max            27.000000               100.000000    2653.000000   \n",
       "\n",
       "       teenBirthRate  pctUninsured  preventHospRate  pctDiabeticsRecTreat  \\\n",
       "count    2486.000000   2486.000000      2486.000000           2486.000000   \n",
       "mean       41.796862     16.988335        62.772727             84.739743   \n",
       "std        18.499012      5.185286        24.107878              5.918107   \n",
       "min         4.000000      3.000000        12.000000             19.000000   \n",
       "25%        28.000000     13.000000        48.000000             83.000000   \n",
       "50%        40.000000     17.000000        59.000000             86.000000   \n",
       "75%        53.000000     20.000000        73.000000             88.000000   \n",
       "max       124.000000     38.000000       231.000000             96.000000   \n",
       "\n",
       "       pctMammography  pctGraduationRate  pctSomeCollege  \n",
       "count     2486.000000        2486.000000     2486.000000  \n",
       "mean        60.789220          84.398230       56.113033  \n",
       "std          7.798972           8.568666       11.311936  \n",
       "min         26.000000           3.000000       20.200000  \n",
       "25%         56.000000          80.000000       48.100000  \n",
       "50%         61.000000          86.000000       56.000000  \n",
       "75%         66.000000          91.000000       64.000000  \n",
       "max         84.000000         100.000000       88.300000  "
      ]
     },
     "execution_count": 54,
     "metadata": {},
     "output_type": "execute_result"
    }
   ],
   "source": [
    "fullData.loc[:,'pctExcessDrinking':'pctSomeCollege'].describe()"
   ]
  },
  {
   "cell_type": "code",
   "execution_count": 55,
   "metadata": {
    "scrolled": true
   },
   "outputs": [
    {
     "data": {
      "text/html": [
       "<div>\n",
       "<table border=\"1\" class=\"dataframe\">\n",
       "  <thead>\n",
       "    <tr style=\"text-align: right;\">\n",
       "      <th></th>\n",
       "      <th>pctSomeCollege</th>\n",
       "      <th>pctUnemployed</th>\n",
       "      <th>pctChildrenInPoverty</th>\n",
       "      <th>IncomeRatio</th>\n",
       "      <th>pctSingleParentHH</th>\n",
       "      <th>AssociationRate</th>\n",
       "      <th>ViolentCrimeRate</th>\n",
       "      <th>injuryDeathRate</th>\n",
       "      <th>AvgDailyPM2.5</th>\n",
       "      <th>pctSeverHousingProbs</th>\n",
       "      <th>pctDriveAlone</th>\n",
       "      <th>pctLongCommute</th>\n",
       "    </tr>\n",
       "  </thead>\n",
       "  <tbody>\n",
       "    <tr>\n",
       "      <th>count</th>\n",
       "      <td>2486.000000</td>\n",
       "      <td>2486.000000</td>\n",
       "      <td>2486.000000</td>\n",
       "      <td>2486.000000</td>\n",
       "      <td>2486.000000</td>\n",
       "      <td>2486.000000</td>\n",
       "      <td>2486.000000</td>\n",
       "      <td>2486.000000</td>\n",
       "      <td>2486.000000</td>\n",
       "      <td>2486.000000</td>\n",
       "      <td>2486.000000</td>\n",
       "      <td>2486.000000</td>\n",
       "    </tr>\n",
       "    <tr>\n",
       "      <th>mean</th>\n",
       "      <td>56.113033</td>\n",
       "      <td>6.451247</td>\n",
       "      <td>23.844730</td>\n",
       "      <td>4.545133</td>\n",
       "      <td>33.345937</td>\n",
       "      <td>12.731175</td>\n",
       "      <td>267.538616</td>\n",
       "      <td>74.454545</td>\n",
       "      <td>11.720072</td>\n",
       "      <td>14.958568</td>\n",
       "      <td>80.197908</td>\n",
       "      <td>30.881738</td>\n",
       "    </tr>\n",
       "    <tr>\n",
       "      <th>std</th>\n",
       "      <td>11.311936</td>\n",
       "      <td>2.067366</td>\n",
       "      <td>8.692791</td>\n",
       "      <td>0.695486</td>\n",
       "      <td>9.383930</td>\n",
       "      <td>4.981697</td>\n",
       "      <td>198.532609</td>\n",
       "      <td>21.554035</td>\n",
       "      <td>1.535203</td>\n",
       "      <td>4.277249</td>\n",
       "      <td>5.945515</td>\n",
       "      <td>11.935865</td>\n",
       "    </tr>\n",
       "    <tr>\n",
       "      <th>min</th>\n",
       "      <td>20.200000</td>\n",
       "      <td>1.200000</td>\n",
       "      <td>3.000000</td>\n",
       "      <td>2.700000</td>\n",
       "      <td>1.000000</td>\n",
       "      <td>1.000000</td>\n",
       "      <td>0.000000</td>\n",
       "      <td>25.000000</td>\n",
       "      <td>7.200000</td>\n",
       "      <td>5.000000</td>\n",
       "      <td>6.000000</td>\n",
       "      <td>3.000000</td>\n",
       "    </tr>\n",
       "    <tr>\n",
       "      <th>25%</th>\n",
       "      <td>48.100000</td>\n",
       "      <td>5.100000</td>\n",
       "      <td>17.250000</td>\n",
       "      <td>4.100000</td>\n",
       "      <td>27.000000</td>\n",
       "      <td>9.300000</td>\n",
       "      <td>128.000000</td>\n",
       "      <td>60.000000</td>\n",
       "      <td>10.600000</td>\n",
       "      <td>12.000000</td>\n",
       "      <td>78.000000</td>\n",
       "      <td>22.000000</td>\n",
       "    </tr>\n",
       "    <tr>\n",
       "      <th>50%</th>\n",
       "      <td>56.000000</td>\n",
       "      <td>6.200000</td>\n",
       "      <td>23.000000</td>\n",
       "      <td>4.400000</td>\n",
       "      <td>33.000000</td>\n",
       "      <td>12.100000</td>\n",
       "      <td>216.000000</td>\n",
       "      <td>72.000000</td>\n",
       "      <td>12.000000</td>\n",
       "      <td>14.000000</td>\n",
       "      <td>81.000000</td>\n",
       "      <td>30.000000</td>\n",
       "    </tr>\n",
       "    <tr>\n",
       "      <th>75%</th>\n",
       "      <td>64.000000</td>\n",
       "      <td>7.600000</td>\n",
       "      <td>29.000000</td>\n",
       "      <td>4.900000</td>\n",
       "      <td>38.000000</td>\n",
       "      <td>15.500000</td>\n",
       "      <td>356.750000</td>\n",
       "      <td>87.000000</td>\n",
       "      <td>13.000000</td>\n",
       "      <td>17.000000</td>\n",
       "      <td>84.000000</td>\n",
       "      <td>39.000000</td>\n",
       "    </tr>\n",
       "    <tr>\n",
       "      <th>max</th>\n",
       "      <td>88.300000</td>\n",
       "      <td>23.600000</td>\n",
       "      <td>54.000000</td>\n",
       "      <td>8.700000</td>\n",
       "      <td>76.000000</td>\n",
       "      <td>41.000000</td>\n",
       "      <td>1885.000000</td>\n",
       "      <td>200.000000</td>\n",
       "      <td>14.900000</td>\n",
       "      <td>44.000000</td>\n",
       "      <td>95.000000</td>\n",
       "      <td>72.000000</td>\n",
       "    </tr>\n",
       "  </tbody>\n",
       "</table>\n",
       "</div>"
      ],
      "text/plain": [
       "       pctSomeCollege  pctUnemployed  pctChildrenInPoverty  IncomeRatio  \\\n",
       "count     2486.000000    2486.000000           2486.000000  2486.000000   \n",
       "mean        56.113033       6.451247             23.844730     4.545133   \n",
       "std         11.311936       2.067366              8.692791     0.695486   \n",
       "min         20.200000       1.200000              3.000000     2.700000   \n",
       "25%         48.100000       5.100000             17.250000     4.100000   \n",
       "50%         56.000000       6.200000             23.000000     4.400000   \n",
       "75%         64.000000       7.600000             29.000000     4.900000   \n",
       "max         88.300000      23.600000             54.000000     8.700000   \n",
       "\n",
       "       pctSingleParentHH  AssociationRate  ViolentCrimeRate  injuryDeathRate  \\\n",
       "count        2486.000000      2486.000000       2486.000000      2486.000000   \n",
       "mean           33.345937        12.731175        267.538616        74.454545   \n",
       "std             9.383930         4.981697        198.532609        21.554035   \n",
       "min             1.000000         1.000000          0.000000        25.000000   \n",
       "25%            27.000000         9.300000        128.000000        60.000000   \n",
       "50%            33.000000        12.100000        216.000000        72.000000   \n",
       "75%            38.000000        15.500000        356.750000        87.000000   \n",
       "max            76.000000        41.000000       1885.000000       200.000000   \n",
       "\n",
       "       AvgDailyPM2.5  pctSeverHousingProbs  pctDriveAlone  pctLongCommute  \n",
       "count    2486.000000           2486.000000    2486.000000     2486.000000  \n",
       "mean       11.720072             14.958568      80.197908       30.881738  \n",
       "std         1.535203              4.277249       5.945515       11.935865  \n",
       "min         7.200000              5.000000       6.000000        3.000000  \n",
       "25%        10.600000             12.000000      78.000000       22.000000  \n",
       "50%        12.000000             14.000000      81.000000       30.000000  \n",
       "75%        13.000000             17.000000      84.000000       39.000000  \n",
       "max        14.900000             44.000000      95.000000       72.000000  "
      ]
     },
     "execution_count": 55,
     "metadata": {},
     "output_type": "execute_result"
    }
   ],
   "source": [
    "fullData.loc[:,'pctSomeCollege':].describe()"
   ]
  },
  {
   "cell_type": "markdown",
   "metadata": {},
   "source": [
    "The features with highest variability are Chlamydia Rate, Violent Crime rate, % access exercise and Injury death rate. These are likely the factors which our chose counties exhibit more extreme values in relative to the other counties making them anomalies.\n",
    "\n",
    "The K-means and Local outlier factor models use similar estimates of distance (Euclidean and Minkowski); so the provide similar results. Whereas the Gaussian Mixture uses log-likelihood as its scoring approach; hence returns different counties."
   ]
  },
  {
   "cell_type": "markdown",
   "metadata": {},
   "source": [
    "#### END"
   ]
  }
 ],
 "metadata": {
  "anaconda-cloud": {},
  "kernelspec": {
   "display_name": "Python 3",
   "language": "python",
   "name": "python3"
  },
  "language_info": {
   "codemirror_mode": {
    "name": "ipython",
    "version": 3
   },
   "file_extension": ".py",
   "mimetype": "text/x-python",
   "name": "python",
   "nbconvert_exporter": "python",
   "pygments_lexer": "ipython3",
   "version": "3.6.4"
  }
 },
 "nbformat": 4,
 "nbformat_minor": 1
}
