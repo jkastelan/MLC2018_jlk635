{
 "cells": [
  {
   "cell_type": "markdown",
   "metadata": {},
   "source": [
    "# Homework 1\n",
    "\n",
    "### Completed by Jon Kastelan (jlk635)\n",
    "\n",
    "Total points for this HW: 100.\n",
    "\n",
    "Please note: Copying and pasting other people's work is absolutely prohibited.  Any such cases will be reported to CUSP's education team and severely punished. Discussion is encouraged, and feel free to exchange ideas with your classmates, but please write your own code and do your own work."
   ]
  },
  {
   "cell_type": "markdown",
   "metadata": {
    "collapsed": true
   },
   "source": [
    "### Question 1: Accuracy and interpretability (10 pts)\n",
    "\n",
    "a) Describe a real-world prediction problem using urban data for which _interpretability_ of your models and results is essential, and for which it might be preferable to use decision trees rather than random forests.  Argue why this is the case. (3 pts)"
   ]
  },
  {
   "cell_type": "markdown",
   "metadata": {},
   "source": [
    "_________________________\n",
    "\n",
    "*Your answer here.*\n",
    "\n",
    "Intepretability is important in being able to analyze factors related to the classification homelessness.\n",
    "\n",
    "We prefer to use decision trees to identify factors which contribute to likelihood of individuals being classified as homeless. Examples of such factors may include poverty, unemployment, lack of affordable housing, poor physical or mental health, drug and alcohol abuse, gambling, family and relationship breakdown, domestic violence, physical and/or sexual abuse. There may also be others.\n",
    "\n",
    "Homelessness is a very sensitive issue, and equally the factors may involve sensitive personal data (such as health conditions). Intepretability is an important attribute where documentation and rationale are needed for the decision-making (other than a reason like \"the model told me to do it\"). \n",
    "\n",
    "The homelessness challenge, and classification could foreseeably end up requiring relitigation, or with numerous different departments and agencies who would like to understand reasons for decisions. A highly complex or black-box model such as random forests is less appropriate in this case. It is preferred to use decision trees.\n",
    "_________________________"
   ]
  },
  {
   "cell_type": "markdown",
   "metadata": {},
   "source": [
    "b) Describe a real-world prediction problem using urban data for which _accuracy_ is paramount and interpretability may be less important, and for which it might be preferable to use random forests rather than decision trees.  Argue why this is the case. (3 pts)"
   ]
  },
  {
   "cell_type": "markdown",
   "metadata": {},
   "source": [
    "_________________________\n",
    "\n",
    "*Your answer here.*\n",
    "\n",
    "A real-world and urban problem for which accuracy is paramount would be using image processing and biometric information to identify terrorist activity.\n",
    "\n",
    "One could think of this as.. we don't care what techniques the model/s need to apply to get the correct answer; we just want to make sure the answer is correct. It is an example where the cost of a true negative may be egregious and defamatory, however the cost to society of a false positive would be even worse (dire). Such a misclassification could result in significant damage of property and loss of life.\n",
    "\n",
    "For this type of problem, authorities and the public aren't asking how they could intepret the model; they want assurance that the model in correct. Model accuracy is paramount, moreso than interpretability.\n",
    "\n",
    "_________________________"
   ]
  },
  {
   "cell_type": "markdown",
   "metadata": {},
   "source": [
    "c) Let's imagine that you want to try to get the best of both worlds (accuracy _and_ interpretability).  So you decide to start by learning a random forest classifier.  Describe at least one way of getting some interpretability out of the model by post-processing.  You could either pick a method from the literature (e.g., Domingos's work on combining multiple models or some method of computing variable importance), or come up with your own approach (doesn't have to be ground-breaking, but feel free to be creative!) (4 pts)"
   ]
  },
  {
   "cell_type": "markdown",
   "metadata": {},
   "source": [
    "\n",
    "_____________________\n",
    "\n",
    "*Your answer here.*\n",
    "\n",
    "Two suggestions for getting interpretability out of a random forest classifier model post-processing:\n",
    "\n",
    "1. Decompose predictions into mathematically exact feature contributions. This will provide classifications, along with specifying relative importance of features used for the classification / prediction.\n",
    "2. Crucial to evaluate whether the displayed global and local explanations are reasonable. Explanations should inspire trust and confidence in the technique. If this is not the case, users are encouraged to remove potentially problematic features from the original data and retrain the model\n",
    "\n",
    "_____________________\n"
   ]
  },
  {
   "cell_type": "markdown",
   "metadata": {},
   "source": [
    "###  Question 2: Build a decision tree for classification, step by step, following the lecture notes. Note that the dataset has been slightly modified, so you will get a different tree than the one shown in the lecture notes.  (30 points)"
   ]
  },
  {
   "cell_type": "code",
   "execution_count": 168,
   "metadata": {
    "collapsed": true
   },
   "outputs": [],
   "source": [
    "import pandas as pd\n",
    "import numpy as np\n",
    "import matplotlib.pyplot as plt\n",
    "import scipy.stats \n",
    "import seaborn as sns\n",
    "sns.set(color_codes=True)\n",
    "%matplotlib inline"
   ]
  },
  {
   "cell_type": "code",
   "execution_count": 2,
   "metadata": {},
   "outputs": [
    {
     "data": {
      "text/html": [
       "<div>\n",
       "<style>\n",
       "    .dataframe thead tr:only-child th {\n",
       "        text-align: right;\n",
       "    }\n",
       "\n",
       "    .dataframe thead th {\n",
       "        text-align: left;\n",
       "    }\n",
       "\n",
       "    .dataframe tbody tr th {\n",
       "        vertical-align: top;\n",
       "    }\n",
       "</style>\n",
       "<table border=\"1\" class=\"dataframe\">\n",
       "  <thead>\n",
       "    <tr style=\"text-align: right;\">\n",
       "      <th></th>\n",
       "      <th>MPG</th>\n",
       "      <th>cylinders</th>\n",
       "      <th>HP</th>\n",
       "      <th>weight</th>\n",
       "    </tr>\n",
       "  </thead>\n",
       "  <tbody>\n",
       "    <tr>\n",
       "      <th>0</th>\n",
       "      <td>good</td>\n",
       "      <td>4</td>\n",
       "      <td>75</td>\n",
       "      <td>light</td>\n",
       "    </tr>\n",
       "    <tr>\n",
       "      <th>1</th>\n",
       "      <td>bad</td>\n",
       "      <td>6</td>\n",
       "      <td>90</td>\n",
       "      <td>medium</td>\n",
       "    </tr>\n",
       "    <tr>\n",
       "      <th>2</th>\n",
       "      <td>bad</td>\n",
       "      <td>4</td>\n",
       "      <td>110</td>\n",
       "      <td>medium</td>\n",
       "    </tr>\n",
       "    <tr>\n",
       "      <th>3</th>\n",
       "      <td>bad</td>\n",
       "      <td>8</td>\n",
       "      <td>175</td>\n",
       "      <td>weighty</td>\n",
       "    </tr>\n",
       "    <tr>\n",
       "      <th>4</th>\n",
       "      <td>bad</td>\n",
       "      <td>6</td>\n",
       "      <td>95</td>\n",
       "      <td>medium</td>\n",
       "    </tr>\n",
       "    <tr>\n",
       "      <th>5</th>\n",
       "      <td>bad</td>\n",
       "      <td>4</td>\n",
       "      <td>94</td>\n",
       "      <td>light</td>\n",
       "    </tr>\n",
       "    <tr>\n",
       "      <th>6</th>\n",
       "      <td>bad</td>\n",
       "      <td>4</td>\n",
       "      <td>95</td>\n",
       "      <td>light</td>\n",
       "    </tr>\n",
       "    <tr>\n",
       "      <th>7</th>\n",
       "      <td>bad</td>\n",
       "      <td>8</td>\n",
       "      <td>139</td>\n",
       "      <td>weighty</td>\n",
       "    </tr>\n",
       "    <tr>\n",
       "      <th>8</th>\n",
       "      <td>bad</td>\n",
       "      <td>8</td>\n",
       "      <td>190</td>\n",
       "      <td>weighty</td>\n",
       "    </tr>\n",
       "    <tr>\n",
       "      <th>9</th>\n",
       "      <td>bad</td>\n",
       "      <td>8</td>\n",
       "      <td>145</td>\n",
       "      <td>weighty</td>\n",
       "    </tr>\n",
       "    <tr>\n",
       "      <th>10</th>\n",
       "      <td>bad</td>\n",
       "      <td>6</td>\n",
       "      <td>100</td>\n",
       "      <td>medium</td>\n",
       "    </tr>\n",
       "    <tr>\n",
       "      <th>11</th>\n",
       "      <td>good</td>\n",
       "      <td>4</td>\n",
       "      <td>92</td>\n",
       "      <td>medium</td>\n",
       "    </tr>\n",
       "    <tr>\n",
       "      <th>12</th>\n",
       "      <td>bad</td>\n",
       "      <td>6</td>\n",
       "      <td>100</td>\n",
       "      <td>weighty</td>\n",
       "    </tr>\n",
       "    <tr>\n",
       "      <th>13</th>\n",
       "      <td>bad</td>\n",
       "      <td>8</td>\n",
       "      <td>170</td>\n",
       "      <td>weighty</td>\n",
       "    </tr>\n",
       "    <tr>\n",
       "      <th>14</th>\n",
       "      <td>good</td>\n",
       "      <td>4</td>\n",
       "      <td>89</td>\n",
       "      <td>medium</td>\n",
       "    </tr>\n",
       "    <tr>\n",
       "      <th>15</th>\n",
       "      <td>good</td>\n",
       "      <td>4</td>\n",
       "      <td>65</td>\n",
       "      <td>light</td>\n",
       "    </tr>\n",
       "    <tr>\n",
       "      <th>16</th>\n",
       "      <td>bad</td>\n",
       "      <td>6</td>\n",
       "      <td>85</td>\n",
       "      <td>medium</td>\n",
       "    </tr>\n",
       "    <tr>\n",
       "      <th>17</th>\n",
       "      <td>good</td>\n",
       "      <td>4</td>\n",
       "      <td>81</td>\n",
       "      <td>light</td>\n",
       "    </tr>\n",
       "    <tr>\n",
       "      <th>18</th>\n",
       "      <td>bad</td>\n",
       "      <td>6</td>\n",
       "      <td>95</td>\n",
       "      <td>medium</td>\n",
       "    </tr>\n",
       "    <tr>\n",
       "      <th>19</th>\n",
       "      <td>bad</td>\n",
       "      <td>4</td>\n",
       "      <td>93</td>\n",
       "      <td>light</td>\n",
       "    </tr>\n",
       "  </tbody>\n",
       "</table>\n",
       "</div>"
      ],
      "text/plain": [
       "     MPG  cylinders   HP   weight\n",
       "0   good          4   75    light\n",
       "1    bad          6   90   medium\n",
       "2    bad          4  110   medium\n",
       "3    bad          8  175  weighty\n",
       "4    bad          6   95   medium\n",
       "5    bad          4   94    light\n",
       "6    bad          4   95    light\n",
       "7    bad          8  139  weighty\n",
       "8    bad          8  190  weighty\n",
       "9    bad          8  145  weighty\n",
       "10   bad          6  100   medium\n",
       "11  good          4   92   medium\n",
       "12   bad          6  100  weighty\n",
       "13   bad          8  170  weighty\n",
       "14  good          4   89   medium\n",
       "15  good          4   65    light\n",
       "16   bad          6   85   medium\n",
       "17  good          4   81    light\n",
       "18   bad          6   95   medium\n",
       "19   bad          4   93    light"
      ]
     },
     "execution_count": 2,
     "metadata": {},
     "output_type": "execute_result"
    }
   ],
   "source": [
    "from StringIO import StringIO\n",
    "thefile = StringIO('MPG,cylinders,HP,weight\\ngood,4,75,light\\nbad,6,90,medium\\nbad,4,110,medium\\nbad,8,175,weighty\\nbad,6,95,medium\\nbad,4,94,light\\nbad,4,95,light\\nbad,8,139,weighty\\nbad,8,190,weighty\\nbad,8,145,weighty\\nbad,6,100,medium\\ngood,4,92,medium\\nbad,6,100,weighty\\nbad,8,170,weighty\\ngood,4,89,medium\\ngood,4,65,light\\nbad,6,85,medium\\ngood,4,81,light\\nbad,6,95,medium\\nbad,4,93,light')\n",
    "df = pd.read_csv(thefile)\n",
    "df"
   ]
  },
  {
   "cell_type": "markdown",
   "metadata": {},
   "source": [
    "### Please use numpy and pandas to do the computation for parts a) through f).  Do not use an existing decision tree implementation like sklearn for this question."
   ]
  },
  {
   "cell_type": "markdown",
   "metadata": {},
   "source": [
    "a) Start with the entire dataset and find the most common MPG value. (2 pts)"
   ]
  },
  {
   "cell_type": "code",
   "execution_count": 10,
   "metadata": {},
   "outputs": [
    {
     "data": {
      "text/plain": [
       "(15, 5)"
      ]
     },
     "execution_count": 10,
     "metadata": {},
     "output_type": "execute_result"
    }
   ],
   "source": [
    "\n",
    "\n",
    "# Code sourced from:\n",
    "# https://stackoverflow.com/questions/28663856/how-to-count-the-occurrence-of-certain-item-in-an-ndarray-in-python\n",
    "\n",
    "unique, counts = np.unique(df.MPG, return_counts=True)\n",
    "dict(zip(unique, counts))\n",
    "\n"
   ]
  },
  {
   "cell_type": "code",
   "execution_count": 4,
   "metadata": {
    "collapsed": true
   },
   "outputs": [],
   "source": [
    "def InformationGain(goodY,badY,goodN,badN):\n",
    "    def F(X,Y):\n",
    "        val1 = X*np.log2(1.*(X+Y)/X) if X>0 else 0\n",
    "        val2 = Y*np.log2(1.*(X+Y)/Y) if Y>0 else 0\n",
    "        return val1+val2\n",
    "    return (F(goodY+goodN,badY+badN)-F(goodY,badY)-F(goodN,badN)) / (goodY+goodN+badY+badN)"
   ]
  },
  {
   "cell_type": "markdown",
   "metadata": {},
   "source": [
    "b) Enumerate all the possible binary questions you could ask for each discrete-valued variable.  For each such split, compute the numbers of \"good\" and \"bad\" MPG vehicles in each of the two child nodes, and compute the information gain using the provided function above. (5 pts)"
   ]
  },
  {
   "cell_type": "code",
   "execution_count": 38,
   "metadata": {},
   "outputs": [
    {
     "name": "stdout",
     "output_type": "stream",
     "text": [
      "Is the number of cylinders '4'?\n",
      "The information gain is: 0.3653\n",
      "For yes, there are 5 good, and 4 bad vehicles\n",
      "For no, there are 0 good, and 11 bad vehicles \n",
      "\n",
      "Is the number of cylinders '6'?\n",
      "The information gain is: 0.1531\n",
      "For yes, there are 0 good, and 6 bad vehicles\n",
      "For no, there are 5 good, and 9 bad vehicles \n",
      "\n",
      "Is the number of cylinders '8'?\n",
      "The information gain is: 0.1226\n",
      "For yes, there are 0 good, and 5 bad vehicles\n",
      "For no, there are 5 good, and 10 bad vehicles \n",
      "\n"
     ]
    }
   ],
   "source": [
    "# your code here\n",
    "\n",
    "## Possible binary questions to ask about number of cylinders\n",
    "\n",
    "uniqueCylinders, countsCylinders = np.unique(df.cylinders, return_counts=True)\n",
    "\n",
    "for i in uniqueCylinders:\n",
    "    print(\"Is the number of cylinders '{}'?\".format(i))\n",
    "    \n",
    "    yesDf = df[df.cylinders == i]\n",
    "    noDf = df[df.cylinders != i]\n",
    "    \n",
    "    uniqueY, countsY = np.unique(yesDf.MPG, return_counts=True)\n",
    "    classY = dict(zip(uniqueY, countsY))\n",
    "    \n",
    "    uniqueN, countsN = np.unique(noDf.MPG, return_counts=True)\n",
    "    classN = dict(zip(uniqueN, countsN))\n",
    "    \n",
    "    yG = classY.get('good', 0)\n",
    "    yB = classY.get('bad', 0)\n",
    "    nG = classN.get('good', 0)\n",
    "    nB = classN.get('bad', 0)\n",
    "    \n",
    "    infGainCalc = round(InformationGain(yG, yB, nG, nB), 4) \n",
    "    \n",
    "    print(\"The information gain is: {}\".format(infGainCalc))\n",
    "    print(\"For yes, there are {} good, and {} bad vehicles\".format(yG, yB))\n",
    "    print(\"For no, there are {} good, and {} bad vehicles \\n\".format(nG, nB))\n",
    "\n"
   ]
  },
  {
   "cell_type": "code",
   "execution_count": 39,
   "metadata": {},
   "outputs": [
    {
     "name": "stdout",
     "output_type": "stream",
     "text": [
      "Is the weight of the vehicle 'light'?\n",
      "The information gain is: 0.0971\n",
      "For yes, there are 3 good, and 3 bad vehicles\n",
      "For no, there are 2 good, and 12 bad vehicles \n",
      "\n",
      "Is the weight of the vehicle 'medium'?\n",
      "The information gain is: 0.0\n",
      "For yes, there are 2 good, and 6 bad vehicles\n",
      "For no, there are 3 good, and 9 bad vehicles \n",
      "\n",
      "Is the weight of the vehicle 'weighty'?\n",
      "The information gain is: 0.1531\n",
      "For yes, there are 0 good, and 6 bad vehicles\n",
      "For no, there are 5 good, and 9 bad vehicles \n",
      "\n"
     ]
    }
   ],
   "source": [
    "## Possible binary questions to ask about weight of vehicle\n",
    "\n",
    "uniqueWeight, countsWeight = np.unique(df.weight, return_counts=True) \n",
    "\n",
    "for i in uniqueWeight:\n",
    "    print(\"Is the weight of the vehicle '{}'?\".format(i))\n",
    "    \n",
    "    yesDf = df[df.weight == i]\n",
    "    noDf = df[df.weight != i]\n",
    "    \n",
    "    uniqueY, countsY = np.unique(yesDf.MPG, return_counts=True)\n",
    "    classY = dict(zip(uniqueY, countsY))\n",
    "    \n",
    "    uniqueN, countsN = np.unique(noDf.MPG, return_counts=True)\n",
    "    classN = dict(zip(uniqueN, countsN))\n",
    "    \n",
    "    yG = classY.get('good', 0)\n",
    "    yB = classY.get('bad', 0)\n",
    "    nG = classN.get('good', 0)\n",
    "    nB = classN.get('bad', 0)\n",
    "    \n",
    "    infGainCalc = round(InformationGain(yG, yB, nG, nB), 4) \n",
    "    \n",
    "    print(\"The information gain is: {}\".format(infGainCalc))\n",
    "    print(\"For yes, there are {} good, and {} bad vehicles\".format(yG, yB))\n",
    "    print(\"For no, there are {} good, and {} bad vehicles \\n\".format(nG, nB))\n",
    "\n"
   ]
  },
  {
   "cell_type": "markdown",
   "metadata": {},
   "source": [
    "c) Enumerate all the possible binary questions you could ask for the real-valued variable HP.  For each such split, compute the numbers of \"good\" and \"bad\" MPG vehicles in each of the two child nodes, and compute the information gain using the provided function above. (5 pts) \n",
    "\n",
    "NOTE: if you'd like, you can just use all midpoints between consecutive values of the sorted HP attribute.  You are not required to exclude provably suboptimal questions like we did in the lecture."
   ]
  },
  {
   "cell_type": "code",
   "execution_count": 42,
   "metadata": {},
   "outputs": [
    {
     "name": "stdout",
     "output_type": "stream",
     "text": [
      "Is the vehicle less than 70.0 HP (horsepower)?\n",
      "The information gain is: 0.1059\n",
      "For yes, there are 1 good, and 0 bad vehicles\n",
      "For no, there are 4 good, and 15 bad vehicles \n",
      "\n",
      "Is the vehicle less than 78.0 HP (horsepower)?\n",
      "The information gain is: 0.2263\n",
      "For yes, there are 2 good, and 0 bad vehicles\n",
      "For no, there are 3 good, and 15 bad vehicles \n",
      "\n",
      "Is the vehicle less than 83.0 HP (horsepower)?\n",
      "The information gain is: 0.3671\n",
      "For yes, there are 3 good, and 0 bad vehicles\n",
      "For no, there are 2 good, and 15 bad vehicles \n",
      "\n",
      "Is the vehicle less than 87.0 HP (horsepower)?\n",
      "The information gain is: 0.2142\n",
      "For yes, there are 3 good, and 1 bad vehicles\n",
      "For no, there are 2 good, and 14 bad vehicles \n",
      "\n",
      "Is the vehicle less than 89.5 HP (horsepower)?\n",
      "The information gain is: 0.3658\n",
      "For yes, there are 4 good, and 1 bad vehicles\n",
      "For no, there are 1 good, and 14 bad vehicles \n",
      "\n",
      "Is the vehicle less than 91.0 HP (horsepower)?\n",
      "The information gain is: 0.2759\n",
      "For yes, there are 4 good, and 2 bad vehicles\n",
      "For no, there are 1 good, and 13 bad vehicles \n",
      "\n",
      "Is the vehicle less than 92.5 HP (horsepower)?\n",
      "The information gain is: 0.5092\n",
      "For yes, there are 5 good, and 2 bad vehicles\n",
      "For no, there are 0 good, and 13 bad vehicles \n",
      "\n",
      "Is the vehicle less than 93.5 HP (horsepower)?\n",
      "The information gain is: 0.4295\n",
      "For yes, there are 5 good, and 3 bad vehicles\n",
      "For no, there are 0 good, and 12 bad vehicles \n",
      "\n",
      "Is the vehicle less than 94.5 HP (horsepower)?\n",
      "The information gain is: 0.3653\n",
      "For yes, there are 5 good, and 4 bad vehicles\n",
      "For no, there are 0 good, and 11 bad vehicles \n",
      "\n",
      "Is the vehicle less than 97.5 HP (horsepower)?\n",
      "The information gain is: 0.2234\n",
      "For yes, there are 5 good, and 7 bad vehicles\n",
      "For no, there are 0 good, and 8 bad vehicles \n",
      "\n",
      "Is the vehicle less than 105.0 HP (horsepower)?\n",
      "The information gain is: 0.1531\n",
      "For yes, there are 5 good, and 9 bad vehicles\n",
      "For no, there are 0 good, and 6 bad vehicles \n",
      "\n",
      "Is the vehicle less than 124.5 HP (horsepower)?\n",
      "The information gain is: 0.1226\n",
      "For yes, there are 5 good, and 10 bad vehicles\n",
      "For no, there are 0 good, and 5 bad vehicles \n",
      "\n",
      "Is the vehicle less than 142.0 HP (horsepower)?\n",
      "The information gain is: 0.0944\n",
      "For yes, there are 5 good, and 11 bad vehicles\n",
      "For no, there are 0 good, and 4 bad vehicles \n",
      "\n",
      "Is the vehicle less than 157.5 HP (horsepower)?\n",
      "The information gain is: 0.0684\n",
      "For yes, there are 5 good, and 12 bad vehicles\n",
      "For no, there are 0 good, and 3 bad vehicles \n",
      "\n",
      "Is the vehicle less than 172.5 HP (horsepower)?\n",
      "The information gain is: 0.0441\n",
      "For yes, there are 5 good, and 13 bad vehicles\n",
      "For no, there are 0 good, and 2 bad vehicles \n",
      "\n",
      "Is the vehicle less than 182.5 HP (horsepower)?\n",
      "The information gain is: 0.0214\n",
      "For yes, there are 5 good, and 14 bad vehicles\n",
      "For no, there are 0 good, and 1 bad vehicles \n",
      "\n"
     ]
    }
   ],
   "source": [
    "# your code here\n",
    "\n",
    "uniqueHP, countsHP = np.unique(df.HP, return_counts=True) \n",
    "#uniqueHP\n",
    "\n",
    "for i in range(len(uniqueHP) - 1):\n",
    "    midP = 0.5*(uniqueHP[i+1] - uniqueHP[i]) + uniqueHP[i]\n",
    "    print(\"Is the vehicle less than {} HP (horsepower)?\".format(midP))\n",
    "    \n",
    "    yesDf = df[df.HP < midP]\n",
    "    noDf = df[df.HP >= midP]\n",
    "    \n",
    "    uniqueY, countsY = np.unique(yesDf.MPG, return_counts=True)\n",
    "    classY = dict(zip(uniqueY, countsY))\n",
    "    \n",
    "    uniqueN, countsN = np.unique(noDf.MPG, return_counts=True)\n",
    "    classN = dict(zip(uniqueN, countsN))\n",
    "    \n",
    "    yG = classY.get('good', 0)\n",
    "    yB = classY.get('bad', 0)\n",
    "    nG = classN.get('good', 0)\n",
    "    nB = classN.get('bad', 0)\n",
    "    \n",
    "    infGainCalc = round(InformationGain(yG, yB, nG, nB), 4) \n",
    "    \n",
    "    print(\"The information gain is: {}\".format(infGainCalc))\n",
    "    print(\"For yes, there are {} good, and {} bad vehicles\".format(yG, yB))\n",
    "    print(\"For no, there are {} good, and {} bad vehicles \\n\".format(nG, nB))\n",
    "    \n",
    "\n"
   ]
  },
  {
   "cell_type": "markdown",
   "metadata": {},
   "source": [
    "d) Based on your results for parts b and c, what is the optimal binary split of the data?  Of the two child nodes created by this split, which (if any) would require further partitioning? (4 pts)"
   ]
  },
  {
   "cell_type": "markdown",
   "metadata": {},
   "source": [
    "*Your answer here.*\n",
    "\n",
    "The best split is the one which maximizes the information ratio.\n",
    "\n",
    "In this case, the question / split which provides the highest information ratio is:\n",
    "\n",
    "### Is the vehicle less than 92.5 HP (horsepower)?\n",
    "*The information gain is: 0.5092*\n",
    "\n",
    "The child nodes produce the following:\n",
    "\n",
    "For yes, there are 5 good, and 2 bad vehicles\n",
    "\n",
    "For no, there are 0 good, and 13 bad vehicles \n",
    "\n",
    "### For the yes node (i.e. vehicle is less than 92.5 HP), further splitting would be required as we still have 5 good and 2 bad vehicles in this node.\n",
    "\n"
   ]
  },
  {
   "cell_type": "markdown",
   "metadata": {},
   "source": [
    "e) Repeat parts a through d until all training data points are perfectly classified by the resulting tree. (6 pts)"
   ]
  },
  {
   "cell_type": "code",
   "execution_count": 49,
   "metadata": {},
   "outputs": [
    {
     "data": {
      "text/html": [
       "<div>\n",
       "<style>\n",
       "    .dataframe thead tr:only-child th {\n",
       "        text-align: right;\n",
       "    }\n",
       "\n",
       "    .dataframe thead th {\n",
       "        text-align: left;\n",
       "    }\n",
       "\n",
       "    .dataframe tbody tr th {\n",
       "        vertical-align: top;\n",
       "    }\n",
       "</style>\n",
       "<table border=\"1\" class=\"dataframe\">\n",
       "  <thead>\n",
       "    <tr style=\"text-align: right;\">\n",
       "      <th></th>\n",
       "      <th>MPG</th>\n",
       "      <th>cylinders</th>\n",
       "      <th>HP</th>\n",
       "      <th>weight</th>\n",
       "    </tr>\n",
       "  </thead>\n",
       "  <tbody>\n",
       "    <tr>\n",
       "      <th>0</th>\n",
       "      <td>good</td>\n",
       "      <td>4</td>\n",
       "      <td>75</td>\n",
       "      <td>light</td>\n",
       "    </tr>\n",
       "    <tr>\n",
       "      <th>1</th>\n",
       "      <td>bad</td>\n",
       "      <td>6</td>\n",
       "      <td>90</td>\n",
       "      <td>medium</td>\n",
       "    </tr>\n",
       "    <tr>\n",
       "      <th>11</th>\n",
       "      <td>good</td>\n",
       "      <td>4</td>\n",
       "      <td>92</td>\n",
       "      <td>medium</td>\n",
       "    </tr>\n",
       "    <tr>\n",
       "      <th>14</th>\n",
       "      <td>good</td>\n",
       "      <td>4</td>\n",
       "      <td>89</td>\n",
       "      <td>medium</td>\n",
       "    </tr>\n",
       "    <tr>\n",
       "      <th>15</th>\n",
       "      <td>good</td>\n",
       "      <td>4</td>\n",
       "      <td>65</td>\n",
       "      <td>light</td>\n",
       "    </tr>\n",
       "    <tr>\n",
       "      <th>16</th>\n",
       "      <td>bad</td>\n",
       "      <td>6</td>\n",
       "      <td>85</td>\n",
       "      <td>medium</td>\n",
       "    </tr>\n",
       "    <tr>\n",
       "      <th>17</th>\n",
       "      <td>good</td>\n",
       "      <td>4</td>\n",
       "      <td>81</td>\n",
       "      <td>light</td>\n",
       "    </tr>\n",
       "  </tbody>\n",
       "</table>\n",
       "</div>"
      ],
      "text/plain": [
       "     MPG  cylinders  HP  weight\n",
       "0   good          4  75   light\n",
       "1    bad          6  90  medium\n",
       "11  good          4  92  medium\n",
       "14  good          4  89  medium\n",
       "15  good          4  65   light\n",
       "16   bad          6  85  medium\n",
       "17  good          4  81   light"
      ]
     },
     "execution_count": 49,
     "metadata": {},
     "output_type": "execute_result"
    }
   ],
   "source": [
    "# your code here\n",
    "\n",
    "## define a new dataframe 'splitDf' for the vehicles which are less than 92.5 HP\n",
    "threshold = 92.5\n",
    "splitDf = df[df.HP < threshold]\n",
    "splitDf \n"
   ]
  },
  {
   "cell_type": "code",
   "execution_count": 45,
   "metadata": {},
   "outputs": [
    {
     "name": "stdout",
     "output_type": "stream",
     "text": [
      "Is the number of cylinders '4'?\n",
      "The information gain is: 0.8631\n",
      "For yes, there are 5 good, and 0 bad vehicles\n",
      "For no, there are 0 good, and 2 bad vehicles \n",
      "\n",
      "Is the number of cylinders '6'?\n",
      "The information gain is: 0.8631\n",
      "For yes, there are 0 good, and 2 bad vehicles\n",
      "For no, there are 5 good, and 0 bad vehicles \n",
      "\n"
     ]
    }
   ],
   "source": [
    "## Part (b) (i)\n",
    "\n",
    "\n",
    "## Possible binary questions to ask about number of cylinders\n",
    "\n",
    "uniqueCylinders, countsCylinders = np.unique(splitDf.cylinders, return_counts=True)\n",
    "\n",
    "for i in uniqueCylinders:\n",
    "    print(\"Is the number of cylinders '{}'?\".format(i))\n",
    "    \n",
    "    yesDf = splitDf[splitDf.cylinders == i]\n",
    "    noDf = splitDf[splitDf.cylinders != i]\n",
    "    \n",
    "    uniqueY, countsY = np.unique(yesDf.MPG, return_counts=True)\n",
    "    classY = dict(zip(uniqueY, countsY))\n",
    "    \n",
    "    uniqueN, countsN = np.unique(noDf.MPG, return_counts=True)\n",
    "    classN = dict(zip(uniqueN, countsN))\n",
    "    \n",
    "    yG = classY.get('good', 0)\n",
    "    yB = classY.get('bad', 0)\n",
    "    nG = classN.get('good', 0)\n",
    "    nB = classN.get('bad', 0)\n",
    "    \n",
    "    infGainCalc = round(InformationGain(yG, yB, nG, nB), 4) \n",
    "    \n",
    "    print(\"The information gain is: {}\".format(infGainCalc))\n",
    "    print(\"For yes, there are {} good, and {} bad vehicles\".format(yG, yB))\n",
    "    print(\"For no, there are {} good, and {} bad vehicles \\n\".format(nG, nB))"
   ]
  },
  {
   "cell_type": "code",
   "execution_count": 46,
   "metadata": {},
   "outputs": [
    {
     "name": "stdout",
     "output_type": "stream",
     "text": [
      "Is the weight of the vehicle 'light'?\n",
      "The information gain is: 0.2917\n",
      "For yes, there are 3 good, and 0 bad vehicles\n",
      "For no, there are 2 good, and 2 bad vehicles \n",
      "\n",
      "Is the weight of the vehicle 'medium'?\n",
      "The information gain is: 0.2917\n",
      "For yes, there are 2 good, and 2 bad vehicles\n",
      "For no, there are 3 good, and 0 bad vehicles \n",
      "\n"
     ]
    }
   ],
   "source": [
    "##Part (b) (ii)\n",
    "\n",
    "## Possible binary questions to ask about weight of vehicle\n",
    "\n",
    "uniqueWeight, countsWeight = np.unique(splitDf.weight, return_counts=True) \n",
    "\n",
    "for i in uniqueWeight:\n",
    "    print(\"Is the weight of the vehicle '{}'?\".format(i))\n",
    "    \n",
    "    yesDf = splitDf[splitDf.weight == i]\n",
    "    noDf = splitDf[splitDf.weight != i]\n",
    "    \n",
    "    uniqueY, countsY = np.unique(yesDf.MPG, return_counts=True)\n",
    "    classY = dict(zip(uniqueY, countsY))\n",
    "    \n",
    "    uniqueN, countsN = np.unique(noDf.MPG, return_counts=True)\n",
    "    classN = dict(zip(uniqueN, countsN))\n",
    "    \n",
    "    yG = classY.get('good', 0)\n",
    "    yB = classY.get('bad', 0)\n",
    "    nG = classN.get('good', 0)\n",
    "    nB = classN.get('bad', 0)\n",
    "    \n",
    "    infGainCalc = round(InformationGain(yG, yB, nG, nB), 4) \n",
    "    \n",
    "    print(\"The information gain is: {}\".format(infGainCalc))\n",
    "    print(\"For yes, there are {} good, and {} bad vehicles\".format(yG, yB))\n",
    "    print(\"For no, there are {} good, and {} bad vehicles \\n\".format(nG, nB))\n"
   ]
  },
  {
   "cell_type": "code",
   "execution_count": 47,
   "metadata": {},
   "outputs": [
    {
     "name": "stdout",
     "output_type": "stream",
     "text": [
      "Is the vehicle less than 70.0 HP (horsepower)?\n",
      "The information gain is: 0.076\n",
      "For yes, there are 1 good, and 0 bad vehicles\n",
      "For no, there are 4 good, and 2 bad vehicles \n",
      "\n",
      "Is the vehicle less than 78.0 HP (horsepower)?\n",
      "The information gain is: 0.1696\n",
      "For yes, there are 2 good, and 0 bad vehicles\n",
      "For no, there are 3 good, and 2 bad vehicles \n",
      "\n",
      "Is the vehicle less than 83.0 HP (horsepower)?\n",
      "The information gain is: 0.2917\n",
      "For yes, there are 3 good, and 0 bad vehicles\n",
      "For no, there are 2 good, and 2 bad vehicles \n",
      "\n",
      "Is the vehicle less than 87.0 HP (horsepower)?\n",
      "The information gain is: 0.006\n",
      "For yes, there are 3 good, and 1 bad vehicles\n",
      "For no, there are 2 good, and 1 bad vehicles \n",
      "\n",
      "Is the vehicle less than 89.5 HP (horsepower)?\n",
      "The information gain is: 0.0617\n",
      "For yes, there are 4 good, and 1 bad vehicles\n",
      "For no, there are 1 good, and 1 bad vehicles \n",
      "\n",
      "Is the vehicle less than 91.0 HP (horsepower)?\n",
      "The information gain is: 0.076\n",
      "For yes, there are 4 good, and 2 bad vehicles\n",
      "For no, there are 1 good, and 0 bad vehicles \n",
      "\n"
     ]
    }
   ],
   "source": [
    "## Part (c)\n",
    "\n",
    "# your code here\n",
    "\n",
    "uniqueHP, countsHP = np.unique(splitDf.HP, return_counts=True) \n",
    "#uniqueHP\n",
    "\n",
    "for i in range(len(uniqueHP) - 1):\n",
    "    midP = 0.5*(uniqueHP[i+1] - uniqueHP[i]) + uniqueHP[i]\n",
    "    print(\"Is the vehicle less than {} HP (horsepower)?\".format(midP))\n",
    "    \n",
    "    yesDf = splitDf[splitDf.HP < midP]\n",
    "    noDf = splitDf[splitDf.HP >= midP]\n",
    "    \n",
    "    uniqueY, countsY = np.unique(yesDf.MPG, return_counts=True)\n",
    "    classY = dict(zip(uniqueY, countsY))\n",
    "    \n",
    "    uniqueN, countsN = np.unique(noDf.MPG, return_counts=True)\n",
    "    classN = dict(zip(uniqueN, countsN))\n",
    "    \n",
    "    yG = classY.get('good', 0)\n",
    "    yB = classY.get('bad', 0)\n",
    "    nG = classN.get('good', 0)\n",
    "    nB = classN.get('bad', 0)\n",
    "    \n",
    "    infGainCalc = round(InformationGain(yG, yB, nG, nB), 4) \n",
    "    \n",
    "    print(\"The information gain is: {}\".format(infGainCalc))\n",
    "    print(\"For yes, there are {} good, and {} bad vehicles\".format(yG, yB))\n",
    "    print(\"For no, there are {} good, and {} bad vehicles \\n\".format(nG, nB))\n",
    "    \n"
   ]
  },
  {
   "cell_type": "markdown",
   "metadata": {},
   "source": [
    "*Part (d)*\n",
    "\n",
    "Again, maximize the information ratio.\n",
    "\n",
    "In this case, the question / split which provides the highest information ratio is:\n",
    "\n",
    "### Is the number of cylinders '4'? \n",
    "*(or an equivalently similar question \"Is the number of cylinders '6'?\")*\n",
    "\n",
    "*The information gain is: 0.8631*\n",
    "\n",
    "The child nodes produce the following:\n",
    "\n",
    "For yes, there are 5 good, and 0 bad vehicles\n",
    "\n",
    "For no, there are 0 good, and 2 bad vehicles \n",
    "\n",
    "### Further splitting is not required, as the tree is perfectly classified.\n",
    "\n",
    "\n"
   ]
  },
  {
   "cell_type": "markdown",
   "metadata": {},
   "source": [
    "f) Draw or show the final decision tree in a format of your choice.  The decision to make at each step and the predicted value at each leaf node must be clear. (4 pts)"
   ]
  },
  {
   "cell_type": "markdown",
   "metadata": {},
   "source": [
    "Your answer here.\n",
    "\n",
    "![alt text](https://raw.githubusercontent.com/jkastelan/iHeartCUSPhackDay2017/master/Misc/Decision_tree_visual_MPG.png)\n"
   ]
  },
  {
   "cell_type": "markdown",
   "metadata": {},
   "source": [
    "g) Classify each of the following four vehicles as having \"good\" or \"bad\" fuel efficiency (miles per gallon).  Do this by hand using the tree structure learned in part f. (4 pts)\n",
    "\n",
    "?,8,70,light : *classified as* **BAD**\n",
    "\n",
    "?,6,113,medium : *classified as* **BAD**\n",
    "\n",
    "?,4,83,weighty : *classified as* **GOOD**\n",
    "\n",
    "?,4,95,weighty : *classified as* **BAD**\n"
   ]
  },
  {
   "cell_type": "markdown",
   "metadata": {},
   "source": [
    "### Question 3, Predicting burden of disease （40 pts)"
   ]
  },
  {
   "cell_type": "code",
   "execution_count": 50,
   "metadata": {},
   "outputs": [
    {
     "data": {
      "text/html": [
       "<div>\n",
       "<style>\n",
       "    .dataframe thead tr:only-child th {\n",
       "        text-align: right;\n",
       "    }\n",
       "\n",
       "    .dataframe thead th {\n",
       "        text-align: left;\n",
       "    }\n",
       "\n",
       "    .dataframe tbody tr th {\n",
       "        vertical-align: top;\n",
       "    }\n",
       "</style>\n",
       "<table border=\"1\" class=\"dataframe\">\n",
       "  <thead>\n",
       "    <tr style=\"text-align: right;\">\n",
       "      <th></th>\n",
       "      <th>Country</th>\n",
       "      <th>FrxnPeaceIn10</th>\n",
       "      <th>ODA4H2OPcptaDol</th>\n",
       "      <th>RenewResm3PcptaYr</th>\n",
       "      <th>SustAccImprWatRur</th>\n",
       "      <th>SustAccImprWatUrb</th>\n",
       "      <th>SustAccImprSanRur</th>\n",
       "      <th>SustAccImprSanUrb</th>\n",
       "      <th>TotHlthExpPctofGDP</th>\n",
       "      <th>GenGovtPctofTotHlthExp</th>\n",
       "      <th>ExtResHlthPctTotExpHlth</th>\n",
       "      <th>PCptaGovtExpHlthAvgExcRt</th>\n",
       "      <th>GDPPCptaIntDol</th>\n",
       "      <th>AdultLtrcyRate</th>\n",
       "      <th>FemaleLtrcyRate</th>\n",
       "      <th>BurdenOfDisease</th>\n",
       "    </tr>\n",
       "  </thead>\n",
       "  <tbody>\n",
       "    <tr>\n",
       "      <th>0</th>\n",
       "      <td>Afghanistan</td>\n",
       "      <td>0.1</td>\n",
       "      <td>0.16</td>\n",
       "      <td>2986</td>\n",
       "      <td>0.10891</td>\n",
       "      <td>0.18812</td>\n",
       "      <td>0.049505</td>\n",
       "      <td>0.15842</td>\n",
       "      <td>0.065</td>\n",
       "      <td>0.395</td>\n",
       "      <td>0.4560</td>\n",
       "      <td>4</td>\n",
       "      <td>430</td>\n",
       "      <td>0.35644</td>\n",
       "      <td>0.20792</td>\n",
       "      <td>awful</td>\n",
       "    </tr>\n",
       "    <tr>\n",
       "      <th>1</th>\n",
       "      <td>Albania</td>\n",
       "      <td>1.0</td>\n",
       "      <td>5.58</td>\n",
       "      <td>13306</td>\n",
       "      <td>0.94059</td>\n",
       "      <td>0.98020</td>\n",
       "      <td>0.801980</td>\n",
       "      <td>0.98020</td>\n",
       "      <td>0.065</td>\n",
       "      <td>0.417</td>\n",
       "      <td>0.0340</td>\n",
       "      <td>49</td>\n",
       "      <td>6158</td>\n",
       "      <td>0.85644</td>\n",
       "      <td>0.78713</td>\n",
       "      <td>low</td>\n",
       "    </tr>\n",
       "    <tr>\n",
       "      <th>2</th>\n",
       "      <td>Algeria</td>\n",
       "      <td>0.0</td>\n",
       "      <td>0.33</td>\n",
       "      <td>473</td>\n",
       "      <td>0.79208</td>\n",
       "      <td>0.91089</td>\n",
       "      <td>0.811880</td>\n",
       "      <td>0.98020</td>\n",
       "      <td>0.041</td>\n",
       "      <td>0.808</td>\n",
       "      <td>0.0005</td>\n",
       "      <td>71</td>\n",
       "      <td>4860</td>\n",
       "      <td>0.69307</td>\n",
       "      <td>0.60396</td>\n",
       "      <td>high</td>\n",
       "    </tr>\n",
       "  </tbody>\n",
       "</table>\n",
       "</div>"
      ],
      "text/plain": [
       "       Country  FrxnPeaceIn10  ODA4H2OPcptaDol  RenewResm3PcptaYr  \\\n",
       "0  Afghanistan            0.1             0.16               2986   \n",
       "1      Albania            1.0             5.58              13306   \n",
       "2      Algeria            0.0             0.33                473   \n",
       "\n",
       "   SustAccImprWatRur  SustAccImprWatUrb  SustAccImprSanRur  SustAccImprSanUrb  \\\n",
       "0            0.10891            0.18812           0.049505            0.15842   \n",
       "1            0.94059            0.98020           0.801980            0.98020   \n",
       "2            0.79208            0.91089           0.811880            0.98020   \n",
       "\n",
       "   TotHlthExpPctofGDP  GenGovtPctofTotHlthExp  ExtResHlthPctTotExpHlth  \\\n",
       "0               0.065                   0.395                   0.4560   \n",
       "1               0.065                   0.417                   0.0340   \n",
       "2               0.041                   0.808                   0.0005   \n",
       "\n",
       "   PCptaGovtExpHlthAvgExcRt  GDPPCptaIntDol  AdultLtrcyRate  FemaleLtrcyRate  \\\n",
       "0                         4             430         0.35644          0.20792   \n",
       "1                        49            6158         0.85644          0.78713   \n",
       "2                        71            4860         0.69307          0.60396   \n",
       "\n",
       "  BurdenOfDisease  \n",
       "0           awful  \n",
       "1             low  \n",
       "2            high  "
      ]
     },
     "execution_count": 50,
     "metadata": {},
     "output_type": "execute_result"
    }
   ],
   "source": [
    "data=pd.read_csv(\"Burden of diarrheal illness by country.csv\")\n",
    "data.head(3)"
   ]
  },
  {
   "cell_type": "markdown",
   "metadata": {},
   "source": [
    "### Data dictionary\n",
    "\n",
    "NAME: Burden of diarrheal illness by country\n",
    "\n",
    "SIZE: 130 Countries, 16 Variables\n",
    "\n",
    "VARIABLE DESCRIPTIONS:\n",
    "\n",
    "Country: Country name\n",
    "\n",
    "FrxnPeaceIn10: Fraction of the past ten years in which a country has been at peace \n",
    "\n",
    "ODA4H2OPcptaDol: Per Capita Official Developmental Assistance for water projects\n",
    "\n",
    "RenewResm3PcptaYr: Renewable Water Resources in cubic meters per capita per year\n",
    "\n",
    "SustAccImprWatRur: Fraction of rural population with sustainable access to improved water\n",
    "\n",
    "SustAccImprWatUrb: Fraction of urban population with sustainable access to improved water\n",
    "\n",
    "SustAccImprSanRur: Fraction of rural population with sustainable access to improved sanitation\n",
    "\n",
    "SustAccImprSanUrb: Fraction of urban population with sustainable access to improved sanitation\n",
    "\n",
    "TotHlthExpPctofGDP: Fraction of a country's GDP devoted to health spending\n",
    "\n",
    "GenGovtPctofTotHlthExp: The fraction of total health expenditures for a country which is provided by the government\n",
    "\n",
    "ExtResHlthPctTotExpHlth: The fraction of total health expenditures for a country which is comes from sources external to the country\n",
    "\n",
    "PCptaGovtExpHlthAvgExcRt: Per Capita Government Health Expenditures at the average exchange rate\n",
    "\n",
    "GDPPCptaIntDol: Gross Domestic Product per capita in international dollars\n",
    "\n",
    "AdultLtrcyRate: Adult Literacy rate\n",
    "\n",
    "FemaleLtrcyRate: Female Literacy rate\n",
    "\n",
    "BurdenOfDisease: Our target variable for classification.  The burden of disease due to diarrheal illness, categorized into \"low\", \"medium\", \"high\", and \"awful\" quartiles.  For each country, we have estimates of the number of Disability-Adjusted Life Years lost per 1000 persons per year (DALYs) due to diarrheal illness.  Countries with \"low\" burden of disease have up to 2.75345 DALYs; countries with \"medium\" burden of disease have between 2.75345 and 8.2127 DALYs; countries with \"high\" burden of disease have between 8.2127 and 26.699 DALYs; and countries with \"awful\" burden of diease have more than 26.699 DALYs."
   ]
  },
  {
   "cell_type": "markdown",
   "metadata": {},
   "source": [
    "### Your goal is to train a decision tree classifier for the attribute “BurdenOfDisease\" using all other variables (except country name) as features with sklearn.tree.DecisionTreeClassifier. \n",
    "http://scikit-learn.org/stable/modules/generated/sklearn.tree.DecisionTreeClassifier.html"
   ]
  },
  {
   "cell_type": "markdown",
   "metadata": {},
   "source": [
    "a) Please choose a train/test split and choose a hyper-parameter governing model simplicity, for example, the maximum tree depth or maximum number of leaf nodes. Then, fit your decision tree classifier (using the training set) for different values of this parameter and for each such value, record the corresponding classification accuracy on the test set. (10 pts)"
   ]
  },
  {
   "cell_type": "code",
   "execution_count": 54,
   "metadata": {},
   "outputs": [
    {
     "data": {
      "text/plain": [
       "Country                     0\n",
       "FrxnPeaceIn10               0\n",
       "ODA4H2OPcptaDol             0\n",
       "RenewResm3PcptaYr           0\n",
       "SustAccImprWatRur           0\n",
       "SustAccImprWatUrb           0\n",
       "SustAccImprSanRur           0\n",
       "SustAccImprSanUrb           0\n",
       "TotHlthExpPctofGDP          0\n",
       "GenGovtPctofTotHlthExp      0\n",
       "ExtResHlthPctTotExpHlth     0\n",
       "PCptaGovtExpHlthAvgExcRt    0\n",
       "GDPPCptaIntDol              0\n",
       "AdultLtrcyRate              0\n",
       "FemaleLtrcyRate             0\n",
       "BurdenOfDisease             0\n",
       "dtype: int64"
      ]
     },
     "execution_count": 54,
     "metadata": {},
     "output_type": "execute_result"
    }
   ],
   "source": [
    "from sklearn.model_selection import train_test_split\n",
    "from sklearn.tree import DecisionTreeClassifier\n",
    "\n",
    "# your code here\n",
    "\n",
    "## Check data for null values\n",
    "data.isnull().sum(axis=0)"
   ]
  },
  {
   "cell_type": "code",
   "execution_count": 69,
   "metadata": {},
   "outputs": [
    {
     "data": {
      "text/html": [
       "<div>\n",
       "<style>\n",
       "    .dataframe thead tr:only-child th {\n",
       "        text-align: right;\n",
       "    }\n",
       "\n",
       "    .dataframe thead th {\n",
       "        text-align: left;\n",
       "    }\n",
       "\n",
       "    .dataframe tbody tr th {\n",
       "        vertical-align: top;\n",
       "    }\n",
       "</style>\n",
       "<table border=\"1\" class=\"dataframe\">\n",
       "  <thead>\n",
       "    <tr style=\"text-align: right;\">\n",
       "      <th></th>\n",
       "      <th>FrxnPeaceIn10</th>\n",
       "      <th>ODA4H2OPcptaDol</th>\n",
       "      <th>RenewResm3PcptaYr</th>\n",
       "      <th>SustAccImprWatRur</th>\n",
       "      <th>SustAccImprWatUrb</th>\n",
       "      <th>SustAccImprSanRur</th>\n",
       "      <th>SustAccImprSanUrb</th>\n",
       "      <th>TotHlthExpPctofGDP</th>\n",
       "      <th>GenGovtPctofTotHlthExp</th>\n",
       "      <th>ExtResHlthPctTotExpHlth</th>\n",
       "      <th>PCptaGovtExpHlthAvgExcRt</th>\n",
       "      <th>GDPPCptaIntDol</th>\n",
       "      <th>AdultLtrcyRate</th>\n",
       "      <th>FemaleLtrcyRate</th>\n",
       "    </tr>\n",
       "  </thead>\n",
       "  <tbody>\n",
       "    <tr>\n",
       "      <th>7</th>\n",
       "      <td>1.0</td>\n",
       "      <td>0.00</td>\n",
       "      <td>66</td>\n",
       "      <td>0.85149</td>\n",
       "      <td>0.97030</td>\n",
       "      <td>0.99010</td>\n",
       "      <td>0.99010</td>\n",
       "      <td>0.064</td>\n",
       "      <td>0.475</td>\n",
       "      <td>0.002</td>\n",
       "      <td>533</td>\n",
       "      <td>19930</td>\n",
       "      <td>0.94653</td>\n",
       "      <td>0.95545</td>\n",
       "    </tr>\n",
       "    <tr>\n",
       "      <th>53</th>\n",
       "      <td>1.0</td>\n",
       "      <td>8.04</td>\n",
       "      <td>317000</td>\n",
       "      <td>0.82178</td>\n",
       "      <td>0.82178</td>\n",
       "      <td>0.59406</td>\n",
       "      <td>0.85149</td>\n",
       "      <td>0.048</td>\n",
       "      <td>0.826</td>\n",
       "      <td>0.032</td>\n",
       "      <td>44</td>\n",
       "      <td>6198</td>\n",
       "      <td>0.97822</td>\n",
       "      <td>0.97525</td>\n",
       "    </tr>\n",
       "    <tr>\n",
       "      <th>15</th>\n",
       "      <td>1.0</td>\n",
       "      <td>4.19</td>\n",
       "      <td>9345</td>\n",
       "      <td>0.89109</td>\n",
       "      <td>0.99010</td>\n",
       "      <td>0.24752</td>\n",
       "      <td>0.56436</td>\n",
       "      <td>0.056</td>\n",
       "      <td>0.582</td>\n",
       "      <td>0.029</td>\n",
       "      <td>135</td>\n",
       "      <td>7344</td>\n",
       "      <td>0.79010</td>\n",
       "      <td>0.81584</td>\n",
       "    </tr>\n",
       "    <tr>\n",
       "      <th>36</th>\n",
       "      <td>0.4</td>\n",
       "      <td>0.12</td>\n",
       "      <td>25183</td>\n",
       "      <td>0.28713</td>\n",
       "      <td>0.82178</td>\n",
       "      <td>0.22772</td>\n",
       "      <td>0.42574</td>\n",
       "      <td>0.040</td>\n",
       "      <td>0.183</td>\n",
       "      <td>0.151</td>\n",
       "      <td>1</td>\n",
       "      <td>382</td>\n",
       "      <td>0.64851</td>\n",
       "      <td>0.54554</td>\n",
       "    </tr>\n",
       "    <tr>\n",
       "      <th>12</th>\n",
       "      <td>1.0</td>\n",
       "      <td>2.87</td>\n",
       "      <td>45564</td>\n",
       "      <td>0.59406</td>\n",
       "      <td>0.85149</td>\n",
       "      <td>0.69307</td>\n",
       "      <td>0.64356</td>\n",
       "      <td>0.031</td>\n",
       "      <td>0.835</td>\n",
       "      <td>0.186</td>\n",
       "      <td>9</td>\n",
       "      <td>2035</td>\n",
       "      <td>0.46535</td>\n",
       "      <td>0.33663</td>\n",
       "    </tr>\n",
       "  </tbody>\n",
       "</table>\n",
       "</div>"
      ],
      "text/plain": [
       "    FrxnPeaceIn10  ODA4H2OPcptaDol  RenewResm3PcptaYr  SustAccImprWatRur  \\\n",
       "7             1.0             0.00                 66            0.85149   \n",
       "53            1.0             8.04             317000            0.82178   \n",
       "15            1.0             4.19               9345            0.89109   \n",
       "36            0.4             0.12              25183            0.28713   \n",
       "12            1.0             2.87              45564            0.59406   \n",
       "\n",
       "    SustAccImprWatUrb  SustAccImprSanRur  SustAccImprSanUrb  \\\n",
       "7             0.97030            0.99010            0.99010   \n",
       "53            0.82178            0.59406            0.85149   \n",
       "15            0.99010            0.24752            0.56436   \n",
       "36            0.82178            0.22772            0.42574   \n",
       "12            0.85149            0.69307            0.64356   \n",
       "\n",
       "    TotHlthExpPctofGDP  GenGovtPctofTotHlthExp  ExtResHlthPctTotExpHlth  \\\n",
       "7                0.064                   0.475                    0.002   \n",
       "53               0.048                   0.826                    0.032   \n",
       "15               0.056                   0.582                    0.029   \n",
       "36               0.040                   0.183                    0.151   \n",
       "12               0.031                   0.835                    0.186   \n",
       "\n",
       "    PCptaGovtExpHlthAvgExcRt  GDPPCptaIntDol  AdultLtrcyRate  FemaleLtrcyRate  \n",
       "7                        533           19930         0.94653          0.95545  \n",
       "53                        44            6198         0.97822          0.97525  \n",
       "15                       135            7344         0.79010          0.81584  \n",
       "36                         1             382         0.64851          0.54554  \n",
       "12                         9            2035         0.46535          0.33663  "
      ]
     },
     "execution_count": 69,
     "metadata": {},
     "output_type": "execute_result"
    }
   ],
   "source": [
    "\n",
    "# Define \"BurdenOfDisease\" as the target variable. \n",
    "y=data.loc[:,\"BurdenOfDisease\"]\n",
    "y=pd.get_dummies(y)\n",
    "\n",
    "# Get the feature space. We're not interested the Country variable; however include all other variables\n",
    "X=data.loc[:,\"FrxnPeaceIn10\":\"FemaleLtrcyRate\"]\n",
    "\n",
    "\n",
    "# Split data into 70% train, 30% test\n",
    "X_train,X_test,y_train,y_test=train_test_split(X, y, test_size=0.3, random_state=999)\n",
    "X_train.head()"
   ]
  },
  {
   "cell_type": "code",
   "execution_count": 105,
   "metadata": {},
   "outputs": [
    {
     "name": "stdout",
     "output_type": "stream",
     "text": [
      "In sample accuracy: 1.0\n",
      "Out of sample accuracy: 0.641025641026\n"
     ]
    }
   ],
   "source": [
    "from sklearn.tree import DecisionTreeClassifier\n",
    "\n",
    "# learn model\n",
    "dt=DecisionTreeClassifier()\n",
    "dt.fit(X_train,y_train)\n",
    "\n",
    "# in sample accuracy\n",
    "print 'In sample accuracy:',dt.score(X_train,y_train)\n",
    "\n",
    "# out of sample accuracy\n",
    "print 'Out of sample accuracy:',dt.score(X_test,y_test)"
   ]
  },
  {
   "cell_type": "code",
   "execution_count": 106,
   "metadata": {},
   "outputs": [
    {
     "name": "stdout",
     "output_type": "stream",
     "text": [
      "0.692307692308\n"
     ]
    }
   ],
   "source": [
    "OS=[]\n",
    "X_train, X_test, y_train, y_test = train_test_split(X, y, test_size = 0.3, random_state = 999) \n",
    "\n",
    "for i in range(10):\n",
    "    dt=DecisionTreeClassifier()\n",
    "    dt.fit(X_train,y_train)\n",
    "    OS.append(dt.score(X_test,y_test)) # or equivalently: OS.append(dt.score(X_test,y_test))\n",
    "print np.mean(OS)"
   ]
  },
  {
   "cell_type": "code",
   "execution_count": 142,
   "metadata": {},
   "outputs": [
    {
     "name": "stdout",
     "output_type": "stream",
     "text": [
      "For max depth = 1, the score on test set is 0.128205\n",
      "For max depth = 2, the score on test set is 0.487179\n",
      "For max depth = 3, the score on test set is 0.564103\n",
      "For max depth = 4, the score on test set is 0.512821\n",
      "For max depth = 5, the score on test set is 0.487179\n",
      "For max depth = 6, the score on test set is 0.487179\n",
      "For max depth = 7, the score on test set is 0.512821\n",
      "For max depth = 8, the score on test set is 0.487179\n",
      "For max depth = 9, the score on test set is 0.487179\n",
      "For max depth = 10, the score on test set is 0.538462\n",
      "Average out-of-sample score 0.4692\n"
     ]
    }
   ],
   "source": [
    "\n",
    "OS_MaxDepth_score = []\n",
    "X_train,X_test,y_train,y_test=train_test_split(X, y, test_size=0.3, random_state=998)\n",
    "    \n",
    "for i in range(1,11):\n",
    "    dt=DecisionTreeClassifier(max_depth=i)\n",
    "    dt.fit(X_train,y_train)\n",
    "    # dt.score returns the mean accuracy on the given test data and labels\n",
    "    scoring=dt.score(X_test,y_test) #score of trained model on test set\n",
    "    print(\"For max depth = {}, the score on test set is {}\".format(i, round(scoring, 6)))\n",
    "    OS_MaxDepth_score.append(scoring)\n",
    "    #AUC_OS.append(roc_auc_score(np.array(y_test),pred))\n",
    "print \"Average out-of-sample score\",round(np.mean(OS_MaxDepth_score),4)"
   ]
  },
  {
   "cell_type": "code",
   "execution_count": 144,
   "metadata": {},
   "outputs": [
    {
     "name": "stdout",
     "output_type": "stream",
     "text": [
      "For max leaf nodes = 2, the score on test set is 0.128205\n",
      "For max leaf nodes = 3, the score on test set is 0.153846\n",
      "For max leaf nodes = 4, the score on test set is 0.487179\n",
      "For max leaf nodes = 5, the score on test set is 0.564103\n",
      "For max leaf nodes = 6, the score on test set is 0.512821\n",
      "For max leaf nodes = 7, the score on test set is 0.538462\n",
      "For max leaf nodes = 8, the score on test set is 0.538462\n",
      "For max leaf nodes = 9, the score on test set is 0.538462\n",
      "For max leaf nodes = 10, the score on test set is 0.538462\n",
      "For max leaf nodes = 11, the score on test set is 0.538462\n",
      "For max leaf nodes = 12, the score on test set is 0.512821\n",
      "For max leaf nodes = 13, the score on test set is 0.512821\n",
      "For max leaf nodes = 14, the score on test set is 0.487179\n",
      "For max leaf nodes = 15, the score on test set is 0.512821\n",
      "For max leaf nodes = 16, the score on test set is 0.512821\n",
      "For max leaf nodes = 17, the score on test set is 0.538462\n",
      "For max leaf nodes = 18, the score on test set is 0.461538\n",
      "For max leaf nodes = 19, the score on test set is 0.487179\n",
      "For max leaf nodes = 20, the score on test set is 0.487179\n",
      "For max leaf nodes = 21, the score on test set is 0.487179\n",
      "For max leaf nodes = 22, the score on test set is 0.487179\n",
      "For max leaf nodes = 23, the score on test set is 0.487179\n",
      "For max leaf nodes = 24, the score on test set is 0.538462\n",
      "Average out-of-sample score 0.4805\n"
     ]
    }
   ],
   "source": [
    "\n",
    "OS_MaxLeaf_score = []\n",
    "X_train,X_test,y_train,y_test=train_test_split(X, y, test_size=0.3, random_state=998)\n",
    "    \n",
    "for i in range(2,25,1):\n",
    "    dt=DecisionTreeClassifier(max_leaf_nodes=i)\n",
    "    dt.fit(X_train,y_train)\n",
    "    # dt.score returns the mean accuracy on the given test data and labels\n",
    "    scoring=dt.score(X_test,y_test) #score of trained model on test set\n",
    "    print(\"For max leaf nodes = {}, the score on test set is {}\".format(i, round(scoring, 6)))\n",
    "    OS_MaxLeaf_score.append(scoring)\n",
    "    #AUC_OS.append(roc_auc_score(np.array(y_test),pred))\n",
    "print \"Average out-of-sample score\",round(np.mean(OS_MaxLeaf_score),4)"
   ]
  },
  {
   "cell_type": "code",
   "execution_count": 175,
   "metadata": {},
   "outputs": [],
   "source": [
    "DecisionTreeClassifier?"
   ]
  },
  {
   "cell_type": "code",
   "execution_count": 102,
   "metadata": {},
   "outputs": [
    {
     "data": {
      "text/plain": [
       "[0.58974358974358976,\n",
       " 0.64102564102564108,\n",
       " 0.58974358974358976,\n",
       " 0.61538461538461542,\n",
       " 0.66666666666666663,\n",
       " 0.35897435897435898,\n",
       " 0.61538461538461542,\n",
       " 0.58974358974358976,\n",
       " 0.5641025641025641,\n",
       " 0.66666666666666663]"
      ]
     },
     "execution_count": 102,
     "metadata": {},
     "output_type": "execute_result"
    }
   ],
   "source": [
    "OS_score"
   ]
  },
  {
   "cell_type": "code",
   "execution_count": null,
   "metadata": {
    "collapsed": true
   },
   "outputs": [],
   "source": [
    "# This time we'll use max_depth to control the complexity of the tree, still using the same train/test split as above,\n",
    "# and optimize the parameter value using GridSearchCV.\n",
    "param_grid = {'max_depth':range(1,11)}\n",
    "dt=DecisionTreeClassifier()\n",
    "gr=GridSearchCV(dt,param_grid=param_grid,scoring='roc_auc')\n",
    "rs=gr.fit(X_train,y_train)\n",
    "print rs.best_params_\n",
    "print roc_auc_score(np.array(y_test),rs.predict_proba(X_test)[:,1])"
   ]
  },
  {
   "cell_type": "markdown",
   "metadata": {},
   "source": [
    "b) Make a plot of accuracy vs. simplicity for different values of the hyper-parameter chosen in part a). That is, the x-axis should be hyper-parameter value (e.g. tree depth) and the y-axis should be accuracy. (10 pts)"
   ]
  },
  {
   "cell_type": "code",
   "execution_count": null,
   "metadata": {
    "collapsed": true
   },
   "outputs": [],
   "source": [
    "import matplotlib.pylab as plt\n",
    "\n",
    "# your code here"
   ]
  },
  {
   "cell_type": "code",
   "execution_count": 147,
   "metadata": {},
   "outputs": [
    {
     "data": {
      "image/png": "[encoded data removed]",
      "text/plain": [
       "<matplotlib.figure.Figure at 0xf94f1d0>"
      ]
     },
     "metadata": {},
     "output_type": "display_data"
    }
   ],
   "source": [
    "plt.figure(figsize=(10,6))\n",
    "plt.plot(range(1,11),OS_MaxDepth_score, c='purple', lw=2)\n",
    "plt.title('Out of sample scores for different maximum tree depths', fontsize = 18)\n",
    "plt.xlabel('Maximum tree depth', fontsize = 16)\n",
    "plt.ylabel('Accuracy percentage (OS score)', fontsize = 16)\n",
    "plt.xticks(fontsize = 13)\n",
    "plt.yticks(fontsize = 13)\n",
    "plt.legend(fontsize = 14);"
   ]
  },
  {
   "cell_type": "code",
   "execution_count": 148,
   "metadata": {},
   "outputs": [
    {
     "data": {
      "image/png": "[encoded data removed]",
      "text/plain": [
       "<matplotlib.figure.Figure at 0x103ca320>"
      ]
     },
     "metadata": {},
     "output_type": "display_data"
    }
   ],
   "source": [
    "plt.figure(figsize=(10,6))\n",
    "plt.plot(range(2,25,1),OS_MaxLeaf_score, c='IndianRed', lw=2)\n",
    "plt.title('Out of sample scores for different maximum leaf nodes', fontsize = 18)\n",
    "plt.xlabel('Maximum leaf nodes', fontsize = 16)\n",
    "plt.ylabel('Accuracy percentage (OS score)', fontsize = 16)\n",
    "plt.xticks(fontsize = 13)\n",
    "plt.yticks(fontsize = 13)\n",
    "plt.legend(fontsize = 14);"
   ]
  },
  {
   "cell_type": "markdown",
   "metadata": {},
   "source": [
    "c) Tune the hyper-parameter you choose in part a) by cross-validation using the training data. You can choose to use the GridSearchCV package from sklearn or write your own code to do cross-validation by spliting the training data into training and validation data. What is the out of sample accuracy after tuning the hyper-parameter? (10 pts)"
   ]
  },
  {
   "cell_type": "code",
   "execution_count": 162,
   "metadata": {},
   "outputs": [
    {
     "data": {
      "text/plain": [
       "(6, 0.71794871794871795)"
      ]
     },
     "execution_count": 162,
     "metadata": {},
     "output_type": "execute_result"
    }
   ],
   "source": [
    "X_train,X_test,y_train,y_test=train_test_split(X, y, test_size=0.3, random_state=i)\n",
    "\n",
    "dt = DecisionTreeClassifier(random_state=i)\n",
    "\n",
    "gs = GridSearchCV(dt, param_grid = param_grid)\n",
    "rs = gs.fit(X_train,y_train)\n",
    "scoring = rs.score(X_test,y_test) #score of trained model on test set\n",
    "rs.best_params_['max_depth'], scoring"
   ]
  },
  {
   "cell_type": "code",
   "execution_count": 174,
   "metadata": {},
   "outputs": [
    {
     "name": "stdout",
     "output_type": "stream",
     "text": [
      "The tuned max depth of the tree is 3.\n"
     ]
    }
   ],
   "source": [
    "from sklearn.model_selection import GridSearchCV\n",
    "\n",
    "# your code here\n",
    "\n",
    "## Lets use a max-depth to control for complexity of the tree.\n",
    "## Same train/test split as above, and we'll optimise the parameter value using GridSearchCV.\n",
    "param_grid = {'max_depth':range(1,11)}\n",
    "\n",
    "Tuned_MaxDepth = []\n",
    "OS_MaxLeaf_score = []\n",
    "\n",
    "\n",
    "# We use a for loop to randomize our test and train set\n",
    "for i in range(1,31,1):\n",
    "    X_train,X_test,y_train,y_test=train_test_split(X, y, test_size=0.3, random_state=i)\n",
    "\n",
    "    dt = DecisionTreeClassifier(random_state=i)\n",
    "\n",
    "    gs = GridSearchCV(dt, param_grid = param_grid)\n",
    "    rs = gs.fit(X_train,y_train)\n",
    "    maxDepthOpt = rs.best_params_['max_depth'] #tuned Max depth for randomized test/train i\n",
    "    scoring = rs.score(X_test,y_test) #score of trained model on test set\n",
    "    Tuned_MaxDepth.append(maxDepthOpt)\n",
    "    #print rs.best_params_\n",
    "    #print roc_auc_score(np.array(y_test),pred)\n",
    "\n",
    "    OS_MaxLeaf_score.append(scoring)\n",
    "\n",
    "ModeTunedMaxDepth = scipy.stats.mode(Tuned_MaxDepth)[0][0]\n",
    "\n",
    "print(\"The tuned max depth of the tree is {}.\".format(ModeTunedMaxDepth))\n"
   ]
  },
  {
   "cell_type": "code",
   "execution_count": 183,
   "metadata": {},
   "outputs": [
    {
     "name": "stdout",
     "output_type": "stream",
     "text": [
      "The out-of-sample fit after tuning for the optimal max depth (3) is: 0.641026\n"
     ]
    }
   ],
   "source": [
    "\n",
    "X_train, X_test, y_train, y_test = train_test_split(X, y, test_size = 0.3, random_state = 999) \n",
    "\n",
    "# Fit decision tree classifier with maximum depth equal to tuned max depth\n",
    "dt=DecisionTreeClassifier(max_depth = ModeTunedMaxDepth)\n",
    "dt.fit(X_train,y_train)\n",
    "osScore = dt.score(X_test,y_test)\n",
    "print(\"The out-of-sample fit after tuning for the optimal max depth ({}) is: {}\".format(ModeTunedMaxDepth,round(osScore,6)))"
   ]
  },
  {
   "cell_type": "markdown",
   "metadata": {},
   "source": [
    "d) Visualize a simple decision tree (e.g., with max_depth = 2 or 3) learned from the data.  To do so, given your decision tree dt, you can use the code below, then copy and paste the resulting output into http://www.webgraphviz.com.  Alternatively, if you have graphviz installed on your machine, you can use that. (5 pts)"
   ]
  },
  {
   "cell_type": "code",
   "execution_count": 184,
   "metadata": {
    "scrolled": false
   },
   "outputs": [
    {
     "name": "stdout",
     "output_type": "stream",
     "text": [
      "digraph Tree {\n",
      "node [shape=box, style=\"filled, rounded\", color=\"black\", fontname=helvetica] ;\n",
      "edge [fontname=helvetica] ;\n",
      "0 [label=\"AdultLtrcyRate <= 0.856, samples = 91, value = [[74, 17], [66, 25], [65, 26], [68, 23]]\", fillcolor=\"#e5813900\"] ;\n",
      "1 [label=\"GDPPCptaIntDol <= 1094.0, samples = 48, value = [[31, 17], [26, 22], [47, 1], [40, 8]]\", fillcolor=\"#e5813925\"] ;\n",
      "0 -> 1 [labeldistance=2.5, labelangle=45, headlabel=\"True\"] ;\n",
      "2 [label=\"samples = 9, value = [[0, 9], [9, 0], [9, 0], [9, 0]]\", fillcolor=\"#e58139ff\"] ;\n",
      "1 -> 2 ;\n",
      "3 [label=\"ExtResHlthPctTotExpHlth <= 0.004, samples = 39, value = [[31, 8], [17, 22], [38, 1], [31, 8]]\", fillcolor=\"#e5813932\"] ;\n",
      "1 -> 3 ;\n",
      "4 [label=\"samples = 6, value = [[6, 0], [6, 0], [6, 0], [0, 6]]\", fillcolor=\"#e58139ff\"] ;\n",
      "3 -> 4 ;\n",
      "5 [label=\"samples = 33, value = [[25, 8], [11, 22], [32, 1], [31, 2]]\", fillcolor=\"#e5813956\"] ;\n",
      "3 -> 5 ;\n",
      "6 [label=\"SustAccImprSanUrb <= 0.842, samples = 43, value = [[43, 0], [40, 3], [18, 25], [28, 15]]\", fillcolor=\"#e5813948\"] ;\n",
      "0 -> 6 [labeldistance=2.5, labelangle=-45, headlabel=\"False\"] ;\n",
      "7 [label=\"GDPPCptaIntDol <= 3206.0, samples = 12, value = [[12, 0], [10, 2], [11, 1], [3, 9]]\", fillcolor=\"#e5813975\"] ;\n",
      "6 -> 7 ;\n",
      "8 [label=\"samples = 3, value = [[3, 0], [1, 2], [2, 1], [3, 0]]\", fillcolor=\"#e5813967\"] ;\n",
      "7 -> 8 ;\n",
      "9 [label=\"samples = 9, value = [[9, 0], [9, 0], [9, 0], [0, 9]]\", fillcolor=\"#e58139ff\"] ;\n",
      "7 -> 9 ;\n",
      "10 [label=\"FemaleLtrcyRate <= 0.866, samples = 31, value = [[31, 0], [30, 1], [7, 24], [25, 6]]\", fillcolor=\"#e5813983\"] ;\n",
      "6 -> 10 ;\n",
      "11 [label=\"samples = 5, value = [[5, 0], [5, 0], [4, 1], [1, 4]]\", fillcolor=\"#e5813991\"] ;\n",
      "10 -> 11 ;\n",
      "12 [label=\"samples = 26, value = [[26, 0], [25, 1], [3, 23], [24, 2]]\", fillcolor=\"#e58139b7\"] ;\n",
      "10 -> 12 ;\n",
      "}\n"
     ]
    }
   ],
   "source": [
    "from sklearn import tree\n",
    "\n",
    "# your code here\n",
    "dt=DecisionTreeClassifier(max_depth = ModeTunedMaxDepth)\n",
    "dt.fit(X_train,y_train)\n",
    "\n",
    "thestring=tree.export_graphviz(dt,out_file=None,\n",
    "                         feature_names=X_train.columns.values,  \n",
    "                         class_names=dt.classes_,  \n",
    "                         filled=True, rounded=True,  \n",
    "                         special_characters=True,impurity=False).replace(\"<br/>\",\", \").replace(\"&le;\",\"<=\").replace(\"=<\",\"=\\\"\").replace(\">,\",\"\\\",\")\n",
    "print thestring"
   ]
  },
  {
   "cell_type": "markdown",
   "metadata": {},
   "source": [
    "### Question 4, Fit a random forest to the data from question 3 (20 pts)\n",
    "\n",
    "a) Please use the same test/train split from previous question and feel free to tune the hyper-parameters for Random Forest model using training data. The package from sklearn is here: http://scikit-learn.org/stable/modules/generated/sklearn.ensemble.RandomForestClassifier.html.\n",
    "Then please report your out of sample prediction result and compare this model's performance with 3c). (10 pts)"
   ]
  },
  {
   "cell_type": "code",
   "execution_count": null,
   "metadata": {
    "collapsed": true
   },
   "outputs": [],
   "source": [
    "from sklearn.ensemble import RandomForestClassifier\n",
    "from sklearn.model_selection import GridSearchCV\n",
    "\n",
    "# your code here"
   ]
  },
  {
   "cell_type": "markdown",
   "metadata": {
    "collapsed": true
   },
   "source": [
    "b) Write one paragraph comparing the results from those two models (Random Forest vs Decision Tree) in terms of both accuracy and interpretability. (10 pts)"
   ]
  },
  {
   "cell_type": "markdown",
   "metadata": {
    "collapsed": true
   },
   "source": [
    "Your answer here."
   ]
  }
 ],
 "metadata": {
  "anaconda-cloud": {},
  "celltoolbar": "Raw Cell Format",
  "kernelspec": {
   "display_name": "Python 2",
   "language": "python",
   "name": "python2"
  },
  "language_info": {
   "codemirror_mode": {
    "name": "ipython",
    "version": 2
   },
   "file_extension": ".py",
   "mimetype": "text/x-python",
   "name": "python",
   "nbconvert_exporter": "python",
   "pygments_lexer": "ipython2",
   "version": "2.7.14"
  }
 },
 "nbformat": 4,
 "nbformat_minor": 2
}
